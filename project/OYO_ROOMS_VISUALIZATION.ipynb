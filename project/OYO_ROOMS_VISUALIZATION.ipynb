{
 "cells": [
  {
   "cell_type": "code",
   "execution_count": 1,
   "metadata": {},
   "outputs": [],
   "source": [
    "import requests\n",
    "import re\n",
    "import pandas as pd\n",
    "import numpy as np\n",
    "from bs4 import BeautifulSoup\n",
    "import matplotlib.pyplot as plt\n",
    "import seaborn as sns\n",
    "import plotly.express as px"
   ]
  },
  {
   "cell_type": "code",
   "execution_count": 3,
   "metadata": {},
   "outputs": [],
   "source": [
    "df=pd.read_csv(r\"C:\\Users\\admin\\Desktop\\project\\Hotels_Price_Analysis.csv\")\n",
    "#df.drop(columns=[\"Unnamed: 0\"],inplace=True)"
   ]
  },
  {
   "cell_type": "code",
   "execution_count": 4,
   "metadata": {},
   "outputs": [
    {
     "data": {
      "text/plain": [
       "(400, 8)"
      ]
     },
     "execution_count": 4,
     "metadata": {},
     "output_type": "execute_result"
    }
   ],
   "source": [
    "df.shape"
   ]
  },
  {
   "cell_type": "markdown",
   "metadata": {},
   "source": [
    "### Here based on rating we are creating another column named Remarks"
   ]
  },
  {
   "cell_type": "code",
   "execution_count": 5,
   "metadata": {},
   "outputs": [],
   "source": [
    "def rating(rating):\n",
    "    if rating>=4.4:\n",
    "        return 'Excellent'\n",
    "    elif rating>=3.3 and rating<4.4:\n",
    "        return 'Good'\n",
    "    else:\n",
    "        return 'Average'"
   ]
  },
  {
   "cell_type": "code",
   "execution_count": 6,
   "metadata": {},
   "outputs": [],
   "source": [
    "df['Remark']=df['Ratings'].apply(rating)"
   ]
  },
  {
   "cell_type": "code",
   "execution_count": 7,
   "metadata": {},
   "outputs": [
    {
     "data": {
      "text/plain": [
       "(400, 9)"
      ]
     },
     "execution_count": 7,
     "metadata": {},
     "output_type": "execute_result"
    }
   ],
   "source": [
    "df.shape"
   ]
  },
  {
   "cell_type": "code",
   "execution_count": 8,
   "metadata": {
    "scrolled": true
   },
   "outputs": [
    {
     "data": {
      "text/html": [
       "<div>\n",
       "<style scoped>\n",
       "    .dataframe tbody tr th:only-of-type {\n",
       "        vertical-align: middle;\n",
       "    }\n",
       "\n",
       "    .dataframe tbody tr th {\n",
       "        vertical-align: top;\n",
       "    }\n",
       "\n",
       "    .dataframe thead th {\n",
       "        text-align: right;\n",
       "    }\n",
       "</style>\n",
       "<table border=\"1\" class=\"dataframe\">\n",
       "  <thead>\n",
       "    <tr style=\"text-align: right;\">\n",
       "      <th></th>\n",
       "      <th>Hotel_Names</th>\n",
       "      <th>Distance</th>\n",
       "      <th>Address</th>\n",
       "      <th>City</th>\n",
       "      <th>Ratings</th>\n",
       "      <th>Votes</th>\n",
       "      <th>Prices</th>\n",
       "      <th>Features</th>\n",
       "      <th>Remark</th>\n",
       "    </tr>\n",
       "  </thead>\n",
       "  <tbody>\n",
       "    <tr>\n",
       "      <th>0</th>\n",
       "      <td>OYO Flagship 704007 Hotel Ashoka Classic</td>\n",
       "      <td>0.4</td>\n",
       "      <td>Hyderabad</td>\n",
       "      <td>Hyderabad</td>\n",
       "      <td>4.1</td>\n",
       "      <td>35</td>\n",
       "      <td>626</td>\n",
       "      <td>Elevator  Geyser  Power backup</td>\n",
       "      <td>Good</td>\n",
       "    </tr>\n",
       "    <tr>\n",
       "      <th>1</th>\n",
       "      <td>OYO Flagship 80484 Simra Relax Inn</td>\n",
       "      <td>4.1</td>\n",
       "      <td>Hyderabad</td>\n",
       "      <td>Hyderabad</td>\n",
       "      <td>4.6</td>\n",
       "      <td>37</td>\n",
       "      <td>626</td>\n",
       "      <td>Geyser  Power backup  AC</td>\n",
       "      <td>Excellent</td>\n",
       "    </tr>\n",
       "    <tr>\n",
       "      <th>2</th>\n",
       "      <td>OYO 14669 Mayur's Residency</td>\n",
       "      <td>2.4</td>\n",
       "      <td>Near Sri Krupa Market, Malakpet</td>\n",
       "      <td>Hyderabad</td>\n",
       "      <td>4.0</td>\n",
       "      <td>1014</td>\n",
       "      <td>614</td>\n",
       "      <td>Free Wi-Fi  AC  AC</td>\n",
       "      <td>Good</td>\n",
       "    </tr>\n",
       "    <tr>\n",
       "      <th>3</th>\n",
       "      <td>OYO 88286 Hotel Padmini</td>\n",
       "      <td>3.4</td>\n",
       "      <td>Lakdikapul</td>\n",
       "      <td>Hyderabad</td>\n",
       "      <td>3.7</td>\n",
       "      <td>245</td>\n",
       "      <td>814</td>\n",
       "      <td>Hair Dryer  Reception  Power backup</td>\n",
       "      <td>Good</td>\n",
       "    </tr>\n",
       "    <tr>\n",
       "      <th>4</th>\n",
       "      <td>OYO SilverKey 74144 Himayat Nagar Circle</td>\n",
       "      <td>1.3</td>\n",
       "      <td>Narayanguda</td>\n",
       "      <td>Hyderabad</td>\n",
       "      <td>3.6</td>\n",
       "      <td>2202</td>\n",
       "      <td>936</td>\n",
       "      <td>Private entrance  Hair Dryer  Reception</td>\n",
       "      <td>Good</td>\n",
       "    </tr>\n",
       "  </tbody>\n",
       "</table>\n",
       "</div>"
      ],
      "text/plain": [
       "                                Hotel_Names  Distance  \\\n",
       "0  OYO Flagship 704007 Hotel Ashoka Classic       0.4   \n",
       "1        OYO Flagship 80484 Simra Relax Inn       4.1   \n",
       "2               OYO 14669 Mayur's Residency       2.4   \n",
       "3                   OYO 88286 Hotel Padmini       3.4   \n",
       "4  OYO SilverKey 74144 Himayat Nagar Circle       1.3   \n",
       "\n",
       "                           Address       City  Ratings  Votes  Prices  \\\n",
       "0                        Hyderabad  Hyderabad      4.1     35     626   \n",
       "1                        Hyderabad  Hyderabad      4.6     37     626   \n",
       "2  Near Sri Krupa Market, Malakpet  Hyderabad      4.0   1014     614   \n",
       "3                       Lakdikapul  Hyderabad      3.7    245     814   \n",
       "4                      Narayanguda  Hyderabad      3.6   2202     936   \n",
       "\n",
       "                                     Features     Remark  \n",
       "0            Elevator  Geyser  Power backup         Good  \n",
       "1                  Geyser  Power backup  AC    Excellent  \n",
       "2                        Free Wi-Fi  AC  AC         Good  \n",
       "3       Hair Dryer  Reception  Power backup         Good  \n",
       "4   Private entrance  Hair Dryer  Reception         Good  "
      ]
     },
     "execution_count": 8,
     "metadata": {},
     "output_type": "execute_result"
    }
   ],
   "source": [
    "df.head()"
   ]
  },
  {
   "cell_type": "code",
   "execution_count": null,
   "metadata": {},
   "outputs": [],
   "source": [
    "df.to_csv(\"finalcsv\")"
   ]
  },
  {
   "cell_type": "code",
   "execution_count": 11,
   "metadata": {},
   "outputs": [
    {
     "data": {
      "text/html": [
       "<div>\n",
       "<style scoped>\n",
       "    .dataframe tbody tr th:only-of-type {\n",
       "        vertical-align: middle;\n",
       "    }\n",
       "\n",
       "    .dataframe tbody tr th {\n",
       "        vertical-align: top;\n",
       "    }\n",
       "\n",
       "    .dataframe thead th {\n",
       "        text-align: right;\n",
       "    }\n",
       "</style>\n",
       "<table border=\"1\" class=\"dataframe\">\n",
       "  <thead>\n",
       "    <tr style=\"text-align: right;\">\n",
       "      <th></th>\n",
       "      <th>Distance</th>\n",
       "      <th>Ratings</th>\n",
       "      <th>Votes</th>\n",
       "      <th>Prices</th>\n",
       "    </tr>\n",
       "  </thead>\n",
       "  <tbody>\n",
       "    <tr>\n",
       "      <th>count</th>\n",
       "      <td>400.000000</td>\n",
       "      <td>400.000000</td>\n",
       "      <td>400.000000</td>\n",
       "      <td>400.000000</td>\n",
       "    </tr>\n",
       "    <tr>\n",
       "      <th>mean</th>\n",
       "      <td>6.258000</td>\n",
       "      <td>3.662000</td>\n",
       "      <td>902.482500</td>\n",
       "      <td>958.642500</td>\n",
       "    </tr>\n",
       "    <tr>\n",
       "      <th>std</th>\n",
       "      <td>2.408545</td>\n",
       "      <td>0.833903</td>\n",
       "      <td>1151.922436</td>\n",
       "      <td>461.216333</td>\n",
       "    </tr>\n",
       "    <tr>\n",
       "      <th>min</th>\n",
       "      <td>0.400000</td>\n",
       "      <td>0.000000</td>\n",
       "      <td>1.000000</td>\n",
       "      <td>444.000000</td>\n",
       "    </tr>\n",
       "    <tr>\n",
       "      <th>25%</th>\n",
       "      <td>4.700000</td>\n",
       "      <td>3.500000</td>\n",
       "      <td>138.000000</td>\n",
       "      <td>621.000000</td>\n",
       "    </tr>\n",
       "    <tr>\n",
       "      <th>50%</th>\n",
       "      <td>6.500000</td>\n",
       "      <td>3.800000</td>\n",
       "      <td>504.000000</td>\n",
       "      <td>842.000000</td>\n",
       "    </tr>\n",
       "    <tr>\n",
       "      <th>75%</th>\n",
       "      <td>8.300000</td>\n",
       "      <td>4.200000</td>\n",
       "      <td>1198.500000</td>\n",
       "      <td>1172.750000</td>\n",
       "    </tr>\n",
       "    <tr>\n",
       "      <th>max</th>\n",
       "      <td>10.000000</td>\n",
       "      <td>5.000000</td>\n",
       "      <td>8182.000000</td>\n",
       "      <td>3604.000000</td>\n",
       "    </tr>\n",
       "  </tbody>\n",
       "</table>\n",
       "</div>"
      ],
      "text/plain": [
       "         Distance     Ratings        Votes       Prices\n",
       "count  400.000000  400.000000   400.000000   400.000000\n",
       "mean     6.258000    3.662000   902.482500   958.642500\n",
       "std      2.408545    0.833903  1151.922436   461.216333\n",
       "min      0.400000    0.000000     1.000000   444.000000\n",
       "25%      4.700000    3.500000   138.000000   621.000000\n",
       "50%      6.500000    3.800000   504.000000   842.000000\n",
       "75%      8.300000    4.200000  1198.500000  1172.750000\n",
       "max     10.000000    5.000000  8182.000000  3604.000000"
      ]
     },
     "execution_count": 11,
     "metadata": {},
     "output_type": "execute_result"
    }
   ],
   "source": [
    "df.describe()"
   ]
  },
  {
   "cell_type": "code",
   "execution_count": 12,
   "metadata": {},
   "outputs": [
    {
     "data": {
      "text/html": [
       "<div>\n",
       "<style scoped>\n",
       "    .dataframe tbody tr th:only-of-type {\n",
       "        vertical-align: middle;\n",
       "    }\n",
       "\n",
       "    .dataframe tbody tr th {\n",
       "        vertical-align: top;\n",
       "    }\n",
       "\n",
       "    .dataframe thead th {\n",
       "        text-align: right;\n",
       "    }\n",
       "</style>\n",
       "<table border=\"1\" class=\"dataframe\">\n",
       "  <thead>\n",
       "    <tr style=\"text-align: right;\">\n",
       "      <th></th>\n",
       "      <th>Hotel_Names</th>\n",
       "      <th>Address</th>\n",
       "      <th>City</th>\n",
       "      <th>Features</th>\n",
       "      <th>Remark</th>\n",
       "    </tr>\n",
       "  </thead>\n",
       "  <tbody>\n",
       "    <tr>\n",
       "      <th>count</th>\n",
       "      <td>400</td>\n",
       "      <td>400</td>\n",
       "      <td>400</td>\n",
       "      <td>400</td>\n",
       "      <td>400</td>\n",
       "    </tr>\n",
       "    <tr>\n",
       "      <th>unique</th>\n",
       "      <td>356</td>\n",
       "      <td>315</td>\n",
       "      <td>4</td>\n",
       "      <td>123</td>\n",
       "      <td>3</td>\n",
       "    </tr>\n",
       "    <tr>\n",
       "      <th>top</th>\n",
       "      <td>Townhouse Oak Hotel Lake View Royal</td>\n",
       "      <td>Near New Delhi Railway Station</td>\n",
       "      <td>Hyderabad</td>\n",
       "      <td>Parking facility  Reception  Free Wi-Fi</td>\n",
       "      <td>Good</td>\n",
       "    </tr>\n",
       "    <tr>\n",
       "      <th>freq</th>\n",
       "      <td>2</td>\n",
       "      <td>8</td>\n",
       "      <td>100</td>\n",
       "      <td>39</td>\n",
       "      <td>282</td>\n",
       "    </tr>\n",
       "  </tbody>\n",
       "</table>\n",
       "</div>"
      ],
      "text/plain": [
       "                                 Hotel_Names                         Address  \\\n",
       "count                                    400                             400   \n",
       "unique                                   356                             315   \n",
       "top     Townhouse Oak Hotel Lake View Royal   Near New Delhi Railway Station   \n",
       "freq                                       2                               8   \n",
       "\n",
       "             City                                    Features Remark  \n",
       "count         400                                         400    400  \n",
       "unique          4                                         123      3  \n",
       "top     Hyderabad   Parking facility  Reception  Free Wi-Fi     Good  \n",
       "freq          100                                          39    282  "
      ]
     },
     "execution_count": 12,
     "metadata": {},
     "output_type": "execute_result"
    }
   ],
   "source": [
    "df.describe(include='O')"
   ]
  },
  {
   "cell_type": "code",
   "execution_count": 13,
   "metadata": {},
   "outputs": [
    {
     "data": {
      "text/plain": [
       "Index(['Hotel_Names', 'Distance', 'Address', 'City', 'Ratings', 'Votes',\n",
       "       'Prices', 'Features', 'Remark'],\n",
       "      dtype='object')"
      ]
     },
     "execution_count": 13,
     "metadata": {},
     "output_type": "execute_result"
    }
   ],
   "source": [
    "df.columns"
   ]
  },
  {
   "cell_type": "markdown",
   "metadata": {},
   "source": [
    "### Data Visualization\n",
    "### Univarient\n",
    "### Numerical "
   ]
  },
  {
   "cell_type": "markdown",
   "metadata": {},
   "source": [
    "### Hotels Rating which are more than 4.5"
   ]
  },
  {
   "cell_type": "code",
   "execution_count": 14,
   "metadata": {
    "scrolled": false
   },
   "outputs": [
    {
     "data": {
      "text/html": [
       "<div>\n",
       "<style scoped>\n",
       "    .dataframe tbody tr th:only-of-type {\n",
       "        vertical-align: middle;\n",
       "    }\n",
       "\n",
       "    .dataframe tbody tr th {\n",
       "        vertical-align: top;\n",
       "    }\n",
       "\n",
       "    .dataframe thead th {\n",
       "        text-align: right;\n",
       "    }\n",
       "</style>\n",
       "<table border=\"1\" class=\"dataframe\">\n",
       "  <thead>\n",
       "    <tr style=\"text-align: right;\">\n",
       "      <th></th>\n",
       "      <th>Hotel_Names</th>\n",
       "      <th>Distance</th>\n",
       "      <th>Address</th>\n",
       "      <th>City</th>\n",
       "      <th>Ratings</th>\n",
       "      <th>Votes</th>\n",
       "      <th>Prices</th>\n",
       "      <th>Features</th>\n",
       "      <th>Remark</th>\n",
       "    </tr>\n",
       "  </thead>\n",
       "  <tbody>\n",
       "    <tr>\n",
       "      <th>1</th>\n",
       "      <td>OYO Flagship 80484 Simra Relax Inn</td>\n",
       "      <td>4.1</td>\n",
       "      <td>Hyderabad</td>\n",
       "      <td>Hyderabad</td>\n",
       "      <td>4.6</td>\n",
       "      <td>37</td>\n",
       "      <td>626.0</td>\n",
       "      <td>Geyser  Power backup  AC</td>\n",
       "      <td>Excellent</td>\n",
       "    </tr>\n",
       "    <tr>\n",
       "      <th>35</th>\n",
       "      <td>OYO Townhouse RCC Majestic 397 LB Nagar</td>\n",
       "      <td>6.1</td>\n",
       "      <td>Champapet</td>\n",
       "      <td>Hyderabad</td>\n",
       "      <td>4.7</td>\n",
       "      <td>3516</td>\n",
       "      <td>2199.0</td>\n",
       "      <td>Parking facility  Free Wi-Fi  AC</td>\n",
       "      <td>Excellent</td>\n",
       "    </tr>\n",
       "    <tr>\n",
       "      <th>100</th>\n",
       "      <td>SPOT ON 41554 Hotel Sri Thirumala Paradise</td>\n",
       "      <td>2.8</td>\n",
       "      <td>Sevashrama</td>\n",
       "      <td>Bangalore</td>\n",
       "      <td>4.6</td>\n",
       "      <td>3632</td>\n",
       "      <td>559.0</td>\n",
       "      <td>Free Wi-Fi  CCTV cameras  Power backup</td>\n",
       "      <td>Excellent</td>\n",
       "    </tr>\n",
       "    <tr>\n",
       "      <th>101</th>\n",
       "      <td>SPOT ON 65593 Yatra Inn</td>\n",
       "      <td>2.0</td>\n",
       "      <td>Lalbagh</td>\n",
       "      <td>Bangalore</td>\n",
       "      <td>4.6</td>\n",
       "      <td>2717</td>\n",
       "      <td>829.0</td>\n",
       "      <td>Reception  Free Wi-Fi  CCTV cameras</td>\n",
       "      <td>Excellent</td>\n",
       "    </tr>\n",
       "    <tr>\n",
       "      <th>153</th>\n",
       "      <td>Collection O 26188 Domus Regency</td>\n",
       "      <td>8.0</td>\n",
       "      <td>Near Swastha Restaurant, Vijay Nagar</td>\n",
       "      <td>Bangalore</td>\n",
       "      <td>5.0</td>\n",
       "      <td>23</td>\n",
       "      <td>1257.0</td>\n",
       "      <td>AC  TV  Mini Fridge</td>\n",
       "      <td>Excellent</td>\n",
       "    </tr>\n",
       "    <tr>\n",
       "      <th>165</th>\n",
       "      <td>Townhouse OAK Clove Boutique Hotel Rajaji Nagar</td>\n",
       "      <td>4.0</td>\n",
       "      <td>4th Block, Rajaji Nagar</td>\n",
       "      <td>Bangalore</td>\n",
       "      <td>4.6</td>\n",
       "      <td>1390</td>\n",
       "      <td>2492.0</td>\n",
       "      <td>Parking facility  Private entrance  Elevator</td>\n",
       "      <td>Excellent</td>\n",
       "    </tr>\n",
       "    <tr>\n",
       "      <th>167</th>\n",
       "      <td>Collection O 31939 CTC Gardenia Residency</td>\n",
       "      <td>2.0</td>\n",
       "      <td>India -</td>\n",
       "      <td>Bangalore</td>\n",
       "      <td>5.0</td>\n",
       "      <td>90</td>\n",
       "      <td>1658.0</td>\n",
       "      <td>Parking facility  Reception  Free Wi-Fi</td>\n",
       "      <td>Excellent</td>\n",
       "    </tr>\n",
       "    <tr>\n",
       "      <th>202</th>\n",
       "      <td>OYO 15515 Hotel Landmark Inn</td>\n",
       "      <td>5.1</td>\n",
       "      <td>Near Karol Bagh Metro Station</td>\n",
       "      <td>Delhi</td>\n",
       "      <td>4.7</td>\n",
       "      <td>4278</td>\n",
       "      <td>1319.0</td>\n",
       "      <td>Hair Dryer  Free Wi-Fi  Power backup</td>\n",
       "      <td>Excellent</td>\n",
       "    </tr>\n",
       "    <tr>\n",
       "      <th>209</th>\n",
       "      <td>OYO Townhouse 610 Derawal Nagar</td>\n",
       "      <td>3.4</td>\n",
       "      <td>Near Vinayak Hoptiat, Gujranwala Town</td>\n",
       "      <td>Delhi</td>\n",
       "      <td>5.0</td>\n",
       "      <td>2811</td>\n",
       "      <td>2550.0</td>\n",
       "      <td>Private entrance  Reception  Free Wi-Fi</td>\n",
       "      <td>Excellent</td>\n",
       "    </tr>\n",
       "    <tr>\n",
       "      <th>213</th>\n",
       "      <td>OYO Flagship 88508 Hotal Pleasant Inn</td>\n",
       "      <td>7.6</td>\n",
       "      <td>Indianull</td>\n",
       "      <td>Delhi</td>\n",
       "      <td>5.0</td>\n",
       "      <td>2</td>\n",
       "      <td>564.0</td>\n",
       "      <td>Free Wi-Fi  Geyser  CCTV cameras</td>\n",
       "      <td>Excellent</td>\n",
       "    </tr>\n",
       "    <tr>\n",
       "      <th>236</th>\n",
       "      <td>OYO Townhouse 610 Derawal Nagar</td>\n",
       "      <td>3.4</td>\n",
       "      <td>Near Vinayak Hoptiat, Gujranwala Town</td>\n",
       "      <td>Delhi</td>\n",
       "      <td>5.0</td>\n",
       "      <td>2811</td>\n",
       "      <td>2550.0</td>\n",
       "      <td>Private entrance  Reception  Free Wi-Fi</td>\n",
       "      <td>Excellent</td>\n",
       "    </tr>\n",
       "    <tr>\n",
       "      <th>297</th>\n",
       "      <td>OYO Flagship 88508 Hotal Pleasant Inn</td>\n",
       "      <td>7.6</td>\n",
       "      <td>Indianull</td>\n",
       "      <td>Delhi</td>\n",
       "      <td>5.0</td>\n",
       "      <td>2</td>\n",
       "      <td>564.0</td>\n",
       "      <td>Free Wi-Fi  Geyser  CCTV cameras</td>\n",
       "      <td>Excellent</td>\n",
       "    </tr>\n",
       "    <tr>\n",
       "      <th>302</th>\n",
       "      <td>Flagship 76255 Airport Comfort Stay</td>\n",
       "      <td>9.9</td>\n",
       "      <td>Near Opposite To Hotel Moon Light, Bediapara</td>\n",
       "      <td>Kolkata</td>\n",
       "      <td>4.6</td>\n",
       "      <td>1904</td>\n",
       "      <td>706.0</td>\n",
       "      <td>Free Wi-Fi  Geyser  CCTV cameras</td>\n",
       "      <td>Excellent</td>\n",
       "    </tr>\n",
       "    <tr>\n",
       "      <th>303</th>\n",
       "      <td>OYO 36451 Pallyshree Guest House</td>\n",
       "      <td>8.9</td>\n",
       "      <td>Jyangra Sani Mandir, Baguiati Jora Mandir Chin...</td>\n",
       "      <td>Kolkata</td>\n",
       "      <td>4.7</td>\n",
       "      <td>817</td>\n",
       "      <td>501.0</td>\n",
       "      <td>AC  TV</td>\n",
       "      <td>Excellent</td>\n",
       "    </tr>\n",
       "    <tr>\n",
       "      <th>304</th>\n",
       "      <td>SPOT ON 64196 Silver Green</td>\n",
       "      <td>9.8</td>\n",
       "      <td>Mondal Ganthi Road, Kaikhali, VIP Road Kolkata...</td>\n",
       "      <td>Kolkata</td>\n",
       "      <td>4.7</td>\n",
       "      <td>3005</td>\n",
       "      <td>696.0</td>\n",
       "      <td>TV  Parking facility  Reception</td>\n",
       "      <td>Excellent</td>\n",
       "    </tr>\n",
       "    <tr>\n",
       "      <th>353</th>\n",
       "      <td>Collection O 81878 Premium Hotel</td>\n",
       "      <td>9.1</td>\n",
       "      <td>1/B/24, AL BLOCK, STREET NO.22,NEW TOWN, RAJAR...</td>\n",
       "      <td>Kolkata</td>\n",
       "      <td>4.6</td>\n",
       "      <td>614</td>\n",
       "      <td>1064.0</td>\n",
       "      <td>Reception  Free Wi-Fi  CCTV cameras</td>\n",
       "      <td>Excellent</td>\n",
       "    </tr>\n",
       "    <tr>\n",
       "      <th>356</th>\n",
       "      <td>OYO 74959 Sataksi Guest House</td>\n",
       "      <td>6.8</td>\n",
       "      <td>CL 246, CL Block, Saltlake Sector 2 Near Secto...</td>\n",
       "      <td>Kolkata</td>\n",
       "      <td>4.7</td>\n",
       "      <td>677</td>\n",
       "      <td>1578.0</td>\n",
       "      <td>Free Wi-Fi  Geyser  CCTV cameras</td>\n",
       "      <td>Excellent</td>\n",
       "    </tr>\n",
       "    <tr>\n",
       "      <th>384</th>\n",
       "      <td>Townhouse OAK Shubhham Regency</td>\n",
       "      <td>6.2</td>\n",
       "      <td>Bidhannagar</td>\n",
       "      <td>Kolkata</td>\n",
       "      <td>4.6</td>\n",
       "      <td>1037</td>\n",
       "      <td>2562.0</td>\n",
       "      <td>AC  TV</td>\n",
       "      <td>Excellent</td>\n",
       "    </tr>\n",
       "    <tr>\n",
       "      <th>393</th>\n",
       "      <td>Capital O 700246 Hotel New All In One</td>\n",
       "      <td>6.6</td>\n",
       "      <td>CK-69, CK Block, Saltlake, Sector 2, West Beng...</td>\n",
       "      <td>Kolkata</td>\n",
       "      <td>4.6</td>\n",
       "      <td>371</td>\n",
       "      <td>2205.0</td>\n",
       "      <td>Parking facility  Free Wi-Fi  Power backup</td>\n",
       "      <td>Excellent</td>\n",
       "    </tr>\n",
       "  </tbody>\n",
       "</table>\n",
       "</div>"
      ],
      "text/plain": [
       "                                         Hotel_Names  Distance  \\\n",
       "1                 OYO Flagship 80484 Simra Relax Inn       4.1   \n",
       "35           OYO Townhouse RCC Majestic 397 LB Nagar       6.1   \n",
       "100       SPOT ON 41554 Hotel Sri Thirumala Paradise       2.8   \n",
       "101                          SPOT ON 65593 Yatra Inn       2.0   \n",
       "153                 Collection O 26188 Domus Regency       8.0   \n",
       "165  Townhouse OAK Clove Boutique Hotel Rajaji Nagar       4.0   \n",
       "167        Collection O 31939 CTC Gardenia Residency       2.0   \n",
       "202                     OYO 15515 Hotel Landmark Inn       5.1   \n",
       "209                  OYO Townhouse 610 Derawal Nagar       3.4   \n",
       "213            OYO Flagship 88508 Hotal Pleasant Inn       7.6   \n",
       "236                  OYO Townhouse 610 Derawal Nagar       3.4   \n",
       "297            OYO Flagship 88508 Hotal Pleasant Inn       7.6   \n",
       "302              Flagship 76255 Airport Comfort Stay       9.9   \n",
       "303                 OYO 36451 Pallyshree Guest House       8.9   \n",
       "304                       SPOT ON 64196 Silver Green       9.8   \n",
       "353                 Collection O 81878 Premium Hotel       9.1   \n",
       "356                    OYO 74959 Sataksi Guest House       6.8   \n",
       "384                   Townhouse OAK Shubhham Regency       6.2   \n",
       "393            Capital O 700246 Hotel New All In One       6.6   \n",
       "\n",
       "                                               Address       City  Ratings  \\\n",
       "1                                            Hyderabad  Hyderabad      4.6   \n",
       "35                                           Champapet  Hyderabad      4.7   \n",
       "100                                         Sevashrama  Bangalore      4.6   \n",
       "101                                            Lalbagh  Bangalore      4.6   \n",
       "153               Near Swastha Restaurant, Vijay Nagar  Bangalore      5.0   \n",
       "165                            4th Block, Rajaji Nagar  Bangalore      4.6   \n",
       "167                                           India -   Bangalore      5.0   \n",
       "202                      Near Karol Bagh Metro Station      Delhi      4.7   \n",
       "209              Near Vinayak Hoptiat, Gujranwala Town      Delhi      5.0   \n",
       "213                                          Indianull      Delhi      5.0   \n",
       "236              Near Vinayak Hoptiat, Gujranwala Town      Delhi      5.0   \n",
       "297                                          Indianull      Delhi      5.0   \n",
       "302       Near Opposite To Hotel Moon Light, Bediapara    Kolkata      4.6   \n",
       "303  Jyangra Sani Mandir, Baguiati Jora Mandir Chin...    Kolkata      4.7   \n",
       "304  Mondal Ganthi Road, Kaikhali, VIP Road Kolkata...    Kolkata      4.7   \n",
       "353  1/B/24, AL BLOCK, STREET NO.22,NEW TOWN, RAJAR...    Kolkata      4.6   \n",
       "356  CL 246, CL Block, Saltlake Sector 2 Near Secto...    Kolkata      4.7   \n",
       "384                                        Bidhannagar    Kolkata      4.6   \n",
       "393  CK-69, CK Block, Saltlake, Sector 2, West Beng...    Kolkata      4.6   \n",
       "\n",
       "     Votes  Prices                                         Features     Remark  \n",
       "1       37   626.0                       Geyser  Power backup  AC    Excellent  \n",
       "35    3516  2199.0               Parking facility  Free Wi-Fi  AC    Excellent  \n",
       "100   3632   559.0         Free Wi-Fi  CCTV cameras  Power backup    Excellent  \n",
       "101   2717   829.0            Reception  Free Wi-Fi  CCTV cameras    Excellent  \n",
       "153     23  1257.0                            AC  TV  Mini Fridge    Excellent  \n",
       "165   1390  2492.0   Parking facility  Private entrance  Elevator    Excellent  \n",
       "167     90  1658.0        Parking facility  Reception  Free Wi-Fi    Excellent  \n",
       "202   4278  1319.0           Hair Dryer  Free Wi-Fi  Power backup    Excellent  \n",
       "209   2811  2550.0        Private entrance  Reception  Free Wi-Fi    Excellent  \n",
       "213      2   564.0               Free Wi-Fi  Geyser  CCTV cameras    Excellent  \n",
       "236   2811  2550.0        Private entrance  Reception  Free Wi-Fi    Excellent  \n",
       "297      2   564.0               Free Wi-Fi  Geyser  CCTV cameras    Excellent  \n",
       "302   1904   706.0               Free Wi-Fi  Geyser  CCTV cameras    Excellent  \n",
       "303    817   501.0                                          AC  TV   Excellent  \n",
       "304   3005   696.0                TV  Parking facility  Reception    Excellent  \n",
       "353    614  1064.0            Reception  Free Wi-Fi  CCTV cameras    Excellent  \n",
       "356    677  1578.0               Free Wi-Fi  Geyser  CCTV cameras    Excellent  \n",
       "384   1037  2562.0                                          AC  TV   Excellent  \n",
       "393    371  2205.0     Parking facility  Free Wi-Fi  Power backup    Excellent  "
      ]
     },
     "execution_count": 14,
     "metadata": {},
     "output_type": "execute_result"
    }
   ],
   "source": [
    "r=df[df['Ratings']>4.5]\n",
    "r"
   ]
  },
  {
   "cell_type": "code",
   "execution_count": 15,
   "metadata": {
    "scrolled": true
   },
   "outputs": [
    {
     "data": {
      "image/png": "[encoded data removed]",
      "text/plain": [
       "<Figure size 640x480 with 1 Axes>"
      ]
     },
     "metadata": {},
     "output_type": "display_data"
    }
   ],
   "source": [
    "sns.histplot(data=r,x='Ratings')\n",
    "plt.title('Ratings greater than 4.5')\n",
    "plt.show()\n"
   ]
  },
  {
   "cell_type": "markdown",
   "metadata": {},
   "source": [
    "* from the above plot we can see count of hotels where rating starts from 4.5 to 5.0"
   ]
  },
  {
   "cell_type": "markdown",
   "metadata": {},
   "source": [
    "### Distance form city to Adresss less than 1.0 km"
   ]
  },
  {
   "cell_type": "code",
   "execution_count": 16,
   "metadata": {
    "scrolled": true
   },
   "outputs": [
    {
     "data": {
      "text/html": [
       "<div>\n",
       "<style scoped>\n",
       "    .dataframe tbody tr th:only-of-type {\n",
       "        vertical-align: middle;\n",
       "    }\n",
       "\n",
       "    .dataframe tbody tr th {\n",
       "        vertical-align: top;\n",
       "    }\n",
       "\n",
       "    .dataframe thead th {\n",
       "        text-align: right;\n",
       "    }\n",
       "</style>\n",
       "<table border=\"1\" class=\"dataframe\">\n",
       "  <thead>\n",
       "    <tr style=\"text-align: right;\">\n",
       "      <th></th>\n",
       "      <th>Hotel_Names</th>\n",
       "      <th>Distance</th>\n",
       "      <th>Address</th>\n",
       "      <th>City</th>\n",
       "      <th>Ratings</th>\n",
       "      <th>Votes</th>\n",
       "      <th>Prices</th>\n",
       "      <th>Features</th>\n",
       "      <th>Remark</th>\n",
       "    </tr>\n",
       "  </thead>\n",
       "  <tbody>\n",
       "    <tr>\n",
       "      <th>0</th>\n",
       "      <td>OYO Flagship 704007 Hotel Ashoka Classic</td>\n",
       "      <td>0.4</td>\n",
       "      <td>Hyderabad</td>\n",
       "      <td>Hyderabad</td>\n",
       "      <td>4.1</td>\n",
       "      <td>35</td>\n",
       "      <td>626.0</td>\n",
       "      <td>Elevator  Geyser  Power backup</td>\n",
       "      <td>Good</td>\n",
       "    </tr>\n",
       "    <tr>\n",
       "      <th>13</th>\n",
       "      <td>OYO 70927 Hotel Hyderabad Continental</td>\n",
       "      <td>0.7</td>\n",
       "      <td>Near Tarakarama Theatre, Sultan Bazar</td>\n",
       "      <td>Hyderabad</td>\n",
       "      <td>3.8</td>\n",
       "      <td>1519</td>\n",
       "      <td>1345.0</td>\n",
       "      <td>TV  King Sized Bed  Dress Hanger</td>\n",
       "      <td>Good</td>\n",
       "    </tr>\n",
       "    <tr>\n",
       "      <th>18</th>\n",
       "      <td>Capital O 44585 Sri Suprabhat Grand</td>\n",
       "      <td>0.8</td>\n",
       "      <td>Nera Venkataramana Theater</td>\n",
       "      <td>Hyderabad</td>\n",
       "      <td>4.0</td>\n",
       "      <td>483</td>\n",
       "      <td>1231.0</td>\n",
       "      <td>Parking facility  Reception  Free Wi-Fi</td>\n",
       "      <td>Good</td>\n",
       "    </tr>\n",
       "    <tr>\n",
       "      <th>31</th>\n",
       "      <td>Capital O 44585 Sri Suprabhat Grand</td>\n",
       "      <td>0.8</td>\n",
       "      <td>Nera Venkataramana Theater</td>\n",
       "      <td>Hyderabad</td>\n",
       "      <td>4.0</td>\n",
       "      <td>483</td>\n",
       "      <td>1231.0</td>\n",
       "      <td>Parking facility  Reception  Free Wi-Fi</td>\n",
       "      <td>Good</td>\n",
       "    </tr>\n",
       "    <tr>\n",
       "      <th>38</th>\n",
       "      <td>OYO 70927 Hotel Hyderabad Continental</td>\n",
       "      <td>0.7</td>\n",
       "      <td>Near Tarakarama Theatre, Sultan Bazar</td>\n",
       "      <td>Hyderabad</td>\n",
       "      <td>3.8</td>\n",
       "      <td>1519</td>\n",
       "      <td>1345.0</td>\n",
       "      <td>TV  King Sized Bed  Dress Hanger</td>\n",
       "      <td>Good</td>\n",
       "    </tr>\n",
       "    <tr>\n",
       "      <th>386</th>\n",
       "      <td>Flagship 74922 Penguin Homes</td>\n",
       "      <td>0.7</td>\n",
       "      <td>Beside Yogayog Bhavan</td>\n",
       "      <td>Kolkata</td>\n",
       "      <td>4.4</td>\n",
       "      <td>1093</td>\n",
       "      <td>1959.0</td>\n",
       "      <td>Free Wi-Fi  Geyser  CCTV cameras</td>\n",
       "      <td>Excellent</td>\n",
       "    </tr>\n",
       "  </tbody>\n",
       "</table>\n",
       "</div>"
      ],
      "text/plain": [
       "                                  Hotel_Names  Distance  \\\n",
       "0    OYO Flagship 704007 Hotel Ashoka Classic       0.4   \n",
       "13      OYO 70927 Hotel Hyderabad Continental       0.7   \n",
       "18        Capital O 44585 Sri Suprabhat Grand       0.8   \n",
       "31        Capital O 44585 Sri Suprabhat Grand       0.8   \n",
       "38      OYO 70927 Hotel Hyderabad Continental       0.7   \n",
       "386              Flagship 74922 Penguin Homes       0.7   \n",
       "\n",
       "                                   Address       City  Ratings  Votes  Prices  \\\n",
       "0                                Hyderabad  Hyderabad      4.1     35   626.0   \n",
       "13   Near Tarakarama Theatre, Sultan Bazar  Hyderabad      3.8   1519  1345.0   \n",
       "18              Nera Venkataramana Theater  Hyderabad      4.0    483  1231.0   \n",
       "31              Nera Venkataramana Theater  Hyderabad      4.0    483  1231.0   \n",
       "38   Near Tarakarama Theatre, Sultan Bazar  Hyderabad      3.8   1519  1345.0   \n",
       "386                  Beside Yogayog Bhavan    Kolkata      4.4   1093  1959.0   \n",
       "\n",
       "                                       Features     Remark  \n",
       "0              Elevator  Geyser  Power backup         Good  \n",
       "13           TV  King Sized Bed  Dress Hanger         Good  \n",
       "18    Parking facility  Reception  Free Wi-Fi         Good  \n",
       "31    Parking facility  Reception  Free Wi-Fi         Good  \n",
       "38           TV  King Sized Bed  Dress Hanger         Good  \n",
       "386          Free Wi-Fi  Geyser  CCTV cameras    Excellent  "
      ]
     },
     "execution_count": 16,
     "metadata": {},
     "output_type": "execute_result"
    }
   ],
   "source": [
    "d=df[df['Distance']<1.0]\n",
    "d"
   ]
  },
  {
   "cell_type": "code",
   "execution_count": 17,
   "metadata": {
    "scrolled": false
   },
   "outputs": [
    {
     "data": {
      "image/png": "[encoded data removed]",
      "text/plain": [
       "<Figure size 500x500 with 1 Axes>"
      ]
     },
     "metadata": {},
     "output_type": "display_data"
    }
   ],
   "source": [
    "sns.displot(data=d,x='Distance')\n",
    "plt.title('Distance less than 1.0 KM')\n",
    "plt.show()"
   ]
  },
  {
   "cell_type": "markdown",
   "metadata": {},
   "source": [
    "* from the above plot we are getting the count of hotels less than 1 km"
   ]
  },
  {
   "cell_type": "markdown",
   "metadata": {},
   "source": [
    "### Hotel votes which are greater than 3000 "
   ]
  },
  {
   "cell_type": "code",
   "execution_count": 18,
   "metadata": {},
   "outputs": [
    {
     "data": {
      "text/html": [
       "<div>\n",
       "<style scoped>\n",
       "    .dataframe tbody tr th:only-of-type {\n",
       "        vertical-align: middle;\n",
       "    }\n",
       "\n",
       "    .dataframe tbody tr th {\n",
       "        vertical-align: top;\n",
       "    }\n",
       "\n",
       "    .dataframe thead th {\n",
       "        text-align: right;\n",
       "    }\n",
       "</style>\n",
       "<table border=\"1\" class=\"dataframe\">\n",
       "  <thead>\n",
       "    <tr style=\"text-align: right;\">\n",
       "      <th></th>\n",
       "      <th>Hotel_Names</th>\n",
       "      <th>Distance</th>\n",
       "      <th>Address</th>\n",
       "      <th>City</th>\n",
       "      <th>Ratings</th>\n",
       "      <th>Votes</th>\n",
       "      <th>Prices</th>\n",
       "      <th>Features</th>\n",
       "      <th>Remark</th>\n",
       "    </tr>\n",
       "  </thead>\n",
       "  <tbody>\n",
       "    <tr>\n",
       "      <th>5</th>\n",
       "      <td>OYO Townhouse 600 Gangothri</td>\n",
       "      <td>5.7</td>\n",
       "      <td>Near RP Road BUS STOP</td>\n",
       "      <td>Hyderabad</td>\n",
       "      <td>4.4</td>\n",
       "      <td>3179</td>\n",
       "      <td>1300.0</td>\n",
       "      <td>Private entrance  Parking facility  Reception</td>\n",
       "      <td>Excellent</td>\n",
       "    </tr>\n",
       "    <tr>\n",
       "      <th>7</th>\n",
       "      <td>OYO 49253 Raja Residency</td>\n",
       "      <td>3.7</td>\n",
       "      <td>Near Raja Deluxe Complex, Musheerabad</td>\n",
       "      <td>Hyderabad</td>\n",
       "      <td>4.2</td>\n",
       "      <td>3862</td>\n",
       "      <td>918.0</td>\n",
       "      <td>Private entrance  Parking facility  Reception</td>\n",
       "      <td>Good</td>\n",
       "    </tr>\n",
       "    <tr>\n",
       "      <th>14</th>\n",
       "      <td>Flagship 77043 Malkajgiri</td>\n",
       "      <td>8.8</td>\n",
       "      <td>Malkajgiri</td>\n",
       "      <td>Hyderabad</td>\n",
       "      <td>4.2</td>\n",
       "      <td>3156</td>\n",
       "      <td>546.0</td>\n",
       "      <td>Parking facility  Reception  Free Wi-Fi</td>\n",
       "      <td>Good</td>\n",
       "    </tr>\n",
       "    <tr>\n",
       "      <th>23</th>\n",
       "      <td>Capital O 11079 Hotel Prestige</td>\n",
       "      <td>6.3</td>\n",
       "      <td>Centrally Located, Near Sun Shine Hospital, Pa...</td>\n",
       "      <td>Hyderabad</td>\n",
       "      <td>4.4</td>\n",
       "      <td>4229</td>\n",
       "      <td>1580.0</td>\n",
       "      <td>Parking facility  Elevator  Free Wi-Fi</td>\n",
       "      <td>Excellent</td>\n",
       "    </tr>\n",
       "    <tr>\n",
       "      <th>28</th>\n",
       "      <td>Flagship 77043 Malkajgiri</td>\n",
       "      <td>8.8</td>\n",
       "      <td>Malkajgiri</td>\n",
       "      <td>Hyderabad</td>\n",
       "      <td>4.2</td>\n",
       "      <td>3156</td>\n",
       "      <td>546.0</td>\n",
       "      <td>Parking facility  Reception  Free Wi-Fi</td>\n",
       "      <td>Good</td>\n",
       "    </tr>\n",
       "    <tr>\n",
       "      <th>35</th>\n",
       "      <td>OYO Townhouse RCC Majestic 397 LB Nagar</td>\n",
       "      <td>6.1</td>\n",
       "      <td>Champapet</td>\n",
       "      <td>Hyderabad</td>\n",
       "      <td>4.7</td>\n",
       "      <td>3516</td>\n",
       "      <td>2199.0</td>\n",
       "      <td>Parking facility  Free Wi-Fi  AC</td>\n",
       "      <td>Excellent</td>\n",
       "    </tr>\n",
       "    <tr>\n",
       "      <th>57</th>\n",
       "      <td>OYO Townhouse 164 ESI Hospital</td>\n",
       "      <td>8.8</td>\n",
       "      <td>Sanath Nagar</td>\n",
       "      <td>Hyderabad</td>\n",
       "      <td>4.5</td>\n",
       "      <td>4565</td>\n",
       "      <td>2025.0</td>\n",
       "      <td>Private entrance  Reception  Free Wi-Fi</td>\n",
       "      <td>Excellent</td>\n",
       "    </tr>\n",
       "    <tr>\n",
       "      <th>63</th>\n",
       "      <td>OYO Townhouse 196 De Alphabet</td>\n",
       "      <td>4.9</td>\n",
       "      <td>Near Sai Baba Temple, Gudimalkapur</td>\n",
       "      <td>Hyderabad</td>\n",
       "      <td>4.2</td>\n",
       "      <td>3372</td>\n",
       "      <td>1447.0</td>\n",
       "      <td>Parking facility  Reception  Free Wi-Fi</td>\n",
       "      <td>Good</td>\n",
       "    </tr>\n",
       "    <tr>\n",
       "      <th>72</th>\n",
       "      <td>OYO Townhouse 600 Gangothri</td>\n",
       "      <td>5.7</td>\n",
       "      <td>Near RP Road BUS STOP</td>\n",
       "      <td>Hyderabad</td>\n",
       "      <td>4.4</td>\n",
       "      <td>3179</td>\n",
       "      <td>1300.0</td>\n",
       "      <td>Private entrance  Parking facility  Reception</td>\n",
       "      <td>Excellent</td>\n",
       "    </tr>\n",
       "    <tr>\n",
       "      <th>95</th>\n",
       "      <td>OYO SilverKey 81097 Silverkey Halcyon Magnus</td>\n",
       "      <td>9.2</td>\n",
       "      <td>Sanath Nagar</td>\n",
       "      <td>Hyderabad</td>\n",
       "      <td>3.8</td>\n",
       "      <td>5237</td>\n",
       "      <td>2076.0</td>\n",
       "      <td>AC  TV  Queen Sized Bed</td>\n",
       "      <td>Good</td>\n",
       "    </tr>\n",
       "    <tr>\n",
       "      <th>100</th>\n",
       "      <td>SPOT ON 41554 Hotel Sri Thirumala Paradise</td>\n",
       "      <td>2.8</td>\n",
       "      <td>Sevashrama</td>\n",
       "      <td>Bangalore</td>\n",
       "      <td>4.6</td>\n",
       "      <td>3632</td>\n",
       "      <td>559.0</td>\n",
       "      <td>Free Wi-Fi  CCTV cameras  Power backup</td>\n",
       "      <td>Excellent</td>\n",
       "    </tr>\n",
       "    <tr>\n",
       "      <th>103</th>\n",
       "      <td>Flagship 14397 Varcity Phi Pavilion</td>\n",
       "      <td>6.1</td>\n",
       "      <td>B t m Layout</td>\n",
       "      <td>Bangalore</td>\n",
       "      <td>4.3</td>\n",
       "      <td>4067</td>\n",
       "      <td>921.0</td>\n",
       "      <td>Living Room  Washing Machine  Balcony</td>\n",
       "      <td>Good</td>\n",
       "    </tr>\n",
       "    <tr>\n",
       "      <th>105</th>\n",
       "      <td>OYO Townhouse 180 Jayanagar</td>\n",
       "      <td>4.8</td>\n",
       "      <td>Near Sagar Hospital, Tilak Nagar</td>\n",
       "      <td>Bangalore</td>\n",
       "      <td>4.5</td>\n",
       "      <td>3187</td>\n",
       "      <td>1520.0</td>\n",
       "      <td>Free Wi-Fi  AC  TV</td>\n",
       "      <td>Excellent</td>\n",
       "    </tr>\n",
       "    <tr>\n",
       "      <th>137</th>\n",
       "      <td>OYO Townhouse 180 Jayanagar</td>\n",
       "      <td>4.8</td>\n",
       "      <td>Near Sagar Hospital, Tilak Nagar</td>\n",
       "      <td>Bangalore</td>\n",
       "      <td>4.5</td>\n",
       "      <td>3187</td>\n",
       "      <td>1520.0</td>\n",
       "      <td>AC  TV</td>\n",
       "      <td>Excellent</td>\n",
       "    </tr>\n",
       "    <tr>\n",
       "      <th>175</th>\n",
       "      <td>Flagship 13933 Varcity Pearl</td>\n",
       "      <td>5.4</td>\n",
       "      <td>Near Forum Mall, Koramangala</td>\n",
       "      <td>Bangalore</td>\n",
       "      <td>3.9</td>\n",
       "      <td>3691</td>\n",
       "      <td>1081.0</td>\n",
       "      <td>Free Wi-Fi  Power backup  Security</td>\n",
       "      <td>Good</td>\n",
       "    </tr>\n",
       "    <tr>\n",
       "      <th>202</th>\n",
       "      <td>OYO 15515 Hotel Landmark Inn</td>\n",
       "      <td>5.1</td>\n",
       "      <td>Near Karol Bagh Metro Station</td>\n",
       "      <td>Delhi</td>\n",
       "      <td>4.7</td>\n",
       "      <td>4278</td>\n",
       "      <td>1319.0</td>\n",
       "      <td>Hair Dryer  Free Wi-Fi  Power backup</td>\n",
       "      <td>Excellent</td>\n",
       "    </tr>\n",
       "    <tr>\n",
       "      <th>269</th>\n",
       "      <td>OYO Townhouse 381 Dilshad Garden</td>\n",
       "      <td>9.9</td>\n",
       "      <td>Pocket E</td>\n",
       "      <td>Delhi</td>\n",
       "      <td>3.5</td>\n",
       "      <td>3500</td>\n",
       "      <td>1114.0</td>\n",
       "      <td>Private entrance  Reception  Power backup</td>\n",
       "      <td>Good</td>\n",
       "    </tr>\n",
       "    <tr>\n",
       "      <th>271</th>\n",
       "      <td>OYO Townhouse 118 Gagan Vihar</td>\n",
       "      <td>8.6</td>\n",
       "      <td>Near rg stone hospital , Hargobind Enclave</td>\n",
       "      <td>Delhi</td>\n",
       "      <td>3.6</td>\n",
       "      <td>4333</td>\n",
       "      <td>1442.0</td>\n",
       "      <td>Geyser  AC  Power backup</td>\n",
       "      <td>Good</td>\n",
       "    </tr>\n",
       "    <tr>\n",
       "      <th>283</th>\n",
       "      <td>OYO Townhouse 57 Gujranwala Town</td>\n",
       "      <td>4.0</td>\n",
       "      <td>Tehsil</td>\n",
       "      <td>Delhi</td>\n",
       "      <td>3.7</td>\n",
       "      <td>3103</td>\n",
       "      <td>1640.0</td>\n",
       "      <td>Living Room  Washing Machine  Balcony</td>\n",
       "      <td>Good</td>\n",
       "    </tr>\n",
       "    <tr>\n",
       "      <th>304</th>\n",
       "      <td>SPOT ON 64196 Silver Green</td>\n",
       "      <td>9.8</td>\n",
       "      <td>Mondal Ganthi Road, Kaikhali, VIP Road Kolkata...</td>\n",
       "      <td>Kolkata</td>\n",
       "      <td>4.7</td>\n",
       "      <td>3005</td>\n",
       "      <td>696.0</td>\n",
       "      <td>TV  Parking facility  Reception</td>\n",
       "      <td>Excellent</td>\n",
       "    </tr>\n",
       "    <tr>\n",
       "      <th>307</th>\n",
       "      <td>OYO Townhouse 229 Hotel Mannat International</td>\n",
       "      <td>4.2</td>\n",
       "      <td>Near Bypass Connector</td>\n",
       "      <td>Kolkata</td>\n",
       "      <td>4.4</td>\n",
       "      <td>6116</td>\n",
       "      <td>1500.0</td>\n",
       "      <td>Hair Dryer  Reception  Free Wi-Fi</td>\n",
       "      <td>Excellent</td>\n",
       "    </tr>\n",
       "    <tr>\n",
       "      <th>310</th>\n",
       "      <td>OYO Townhouse 143 Hotel Royal Garden</td>\n",
       "      <td>3.0</td>\n",
       "      <td>Near Jameson Inn, Park St</td>\n",
       "      <td>Kolkata</td>\n",
       "      <td>4.3</td>\n",
       "      <td>8182</td>\n",
       "      <td>1500.0</td>\n",
       "      <td>Reception  Free Wi-Fi  Power backup</td>\n",
       "      <td>Good</td>\n",
       "    </tr>\n",
       "    <tr>\n",
       "      <th>315</th>\n",
       "      <td>Flagship 74334 Hotel Marina</td>\n",
       "      <td>2.7</td>\n",
       "      <td>Near Ladies Park, Beniapukur</td>\n",
       "      <td>Kolkata</td>\n",
       "      <td>4.5</td>\n",
       "      <td>3370</td>\n",
       "      <td>1496.0</td>\n",
       "      <td>Reception  Free Wi-Fi  Power backup</td>\n",
       "      <td>Excellent</td>\n",
       "    </tr>\n",
       "    <tr>\n",
       "      <th>316</th>\n",
       "      <td>Flagship 74169 Mourigram Near Andul Rd</td>\n",
       "      <td>9.5</td>\n",
       "      <td>Howrah</td>\n",
       "      <td>Kolkata</td>\n",
       "      <td>4.0</td>\n",
       "      <td>6125</td>\n",
       "      <td>863.0</td>\n",
       "      <td>Reception  Free Wi-Fi  Daily housekeeping</td>\n",
       "      <td>Good</td>\n",
       "    </tr>\n",
       "    <tr>\n",
       "      <th>320</th>\n",
       "      <td>Collection O 74257 Gokul Residency Jessore Road</td>\n",
       "      <td>8.6</td>\n",
       "      <td>Near Emami City, Nagerbazar, Dum Dum</td>\n",
       "      <td>Kolkata</td>\n",
       "      <td>4.5</td>\n",
       "      <td>6411</td>\n",
       "      <td>1339.0</td>\n",
       "      <td>Private entrance  Reception  Free Wi-Fi</td>\n",
       "      <td>Excellent</td>\n",
       "    </tr>\n",
       "    <tr>\n",
       "      <th>341</th>\n",
       "      <td>Flagship 74169 Mourigram Near Andul Rd</td>\n",
       "      <td>9.5</td>\n",
       "      <td>Howrah</td>\n",
       "      <td>Kolkata</td>\n",
       "      <td>4.0</td>\n",
       "      <td>6125</td>\n",
       "      <td>863.0</td>\n",
       "      <td>Elevator  Free Wi-Fi  Geyser</td>\n",
       "      <td>Good</td>\n",
       "    </tr>\n",
       "    <tr>\n",
       "      <th>374</th>\n",
       "      <td>OYO Townhouse 75779 The Royal Retreat</td>\n",
       "      <td>10.0</td>\n",
       "      <td>Kolkata International Airport, Belghoria Expre...</td>\n",
       "      <td>Kolkata</td>\n",
       "      <td>4.4</td>\n",
       "      <td>4135</td>\n",
       "      <td>1653.0</td>\n",
       "      <td>Geyser  Power backup  AC</td>\n",
       "      <td>Excellent</td>\n",
       "    </tr>\n",
       "  </tbody>\n",
       "</table>\n",
       "</div>"
      ],
      "text/plain": [
       "                                         Hotel_Names  Distance  \\\n",
       "5                        OYO Townhouse 600 Gangothri       5.7   \n",
       "7                           OYO 49253 Raja Residency       3.7   \n",
       "14                         Flagship 77043 Malkajgiri       8.8   \n",
       "23                    Capital O 11079 Hotel Prestige       6.3   \n",
       "28                         Flagship 77043 Malkajgiri       8.8   \n",
       "35           OYO Townhouse RCC Majestic 397 LB Nagar       6.1   \n",
       "57                    OYO Townhouse 164 ESI Hospital       8.8   \n",
       "63                     OYO Townhouse 196 De Alphabet       4.9   \n",
       "72                       OYO Townhouse 600 Gangothri       5.7   \n",
       "95      OYO SilverKey 81097 Silverkey Halcyon Magnus       9.2   \n",
       "100       SPOT ON 41554 Hotel Sri Thirumala Paradise       2.8   \n",
       "103              Flagship 14397 Varcity Phi Pavilion       6.1   \n",
       "105                      OYO Townhouse 180 Jayanagar       4.8   \n",
       "137                      OYO Townhouse 180 Jayanagar       4.8   \n",
       "175                     Flagship 13933 Varcity Pearl       5.4   \n",
       "202                     OYO 15515 Hotel Landmark Inn       5.1   \n",
       "269                 OYO Townhouse 381 Dilshad Garden       9.9   \n",
       "271                    OYO Townhouse 118 Gagan Vihar       8.6   \n",
       "283                 OYO Townhouse 57 Gujranwala Town       4.0   \n",
       "304                       SPOT ON 64196 Silver Green       9.8   \n",
       "307     OYO Townhouse 229 Hotel Mannat International       4.2   \n",
       "310             OYO Townhouse 143 Hotel Royal Garden       3.0   \n",
       "315                      Flagship 74334 Hotel Marina       2.7   \n",
       "316           Flagship 74169 Mourigram Near Andul Rd       9.5   \n",
       "320  Collection O 74257 Gokul Residency Jessore Road       8.6   \n",
       "341           Flagship 74169 Mourigram Near Andul Rd       9.5   \n",
       "374            OYO Townhouse 75779 The Royal Retreat      10.0   \n",
       "\n",
       "                                               Address       City  Ratings  \\\n",
       "5                                Near RP Road BUS STOP  Hyderabad      4.4   \n",
       "7                Near Raja Deluxe Complex, Musheerabad  Hyderabad      4.2   \n",
       "14                                          Malkajgiri  Hyderabad      4.2   \n",
       "23   Centrally Located, Near Sun Shine Hospital, Pa...  Hyderabad      4.4   \n",
       "28                                          Malkajgiri  Hyderabad      4.2   \n",
       "35                                           Champapet  Hyderabad      4.7   \n",
       "57                                        Sanath Nagar  Hyderabad      4.5   \n",
       "63                  Near Sai Baba Temple, Gudimalkapur  Hyderabad      4.2   \n",
       "72                               Near RP Road BUS STOP  Hyderabad      4.4   \n",
       "95                                        Sanath Nagar  Hyderabad      3.8   \n",
       "100                                         Sevashrama  Bangalore      4.6   \n",
       "103                                       B t m Layout  Bangalore      4.3   \n",
       "105                   Near Sagar Hospital, Tilak Nagar  Bangalore      4.5   \n",
       "137                   Near Sagar Hospital, Tilak Nagar  Bangalore      4.5   \n",
       "175                       Near Forum Mall, Koramangala  Bangalore      3.9   \n",
       "202                      Near Karol Bagh Metro Station      Delhi      4.7   \n",
       "269                                           Pocket E      Delhi      3.5   \n",
       "271         Near rg stone hospital , Hargobind Enclave      Delhi      3.6   \n",
       "283                                             Tehsil      Delhi      3.7   \n",
       "304  Mondal Ganthi Road, Kaikhali, VIP Road Kolkata...    Kolkata      4.7   \n",
       "307                              Near Bypass Connector    Kolkata      4.4   \n",
       "310                          Near Jameson Inn, Park St    Kolkata      4.3   \n",
       "315                       Near Ladies Park, Beniapukur    Kolkata      4.5   \n",
       "316                                             Howrah    Kolkata      4.0   \n",
       "320               Near Emami City, Nagerbazar, Dum Dum    Kolkata      4.5   \n",
       "341                                             Howrah    Kolkata      4.0   \n",
       "374  Kolkata International Airport, Belghoria Expre...    Kolkata      4.4   \n",
       "\n",
       "     Votes  Prices                                          Features  \\\n",
       "5     3179  1300.0   Private entrance  Parking facility  Reception     \n",
       "7     3862   918.0   Private entrance  Parking facility  Reception     \n",
       "14    3156   546.0         Parking facility  Reception  Free Wi-Fi     \n",
       "23    4229  1580.0          Parking facility  Elevator  Free Wi-Fi     \n",
       "28    3156   546.0         Parking facility  Reception  Free Wi-Fi     \n",
       "35    3516  2199.0                Parking facility  Free Wi-Fi  AC     \n",
       "57    4565  2025.0         Private entrance  Reception  Free Wi-Fi     \n",
       "63    3372  1447.0         Parking facility  Reception  Free Wi-Fi     \n",
       "72    3179  1300.0   Private entrance  Parking facility  Reception     \n",
       "95    5237  2076.0                         AC  TV  Queen Sized Bed     \n",
       "100   3632   559.0          Free Wi-Fi  CCTV cameras  Power backup     \n",
       "103   4067   921.0           Living Room  Washing Machine  Balcony     \n",
       "105   3187  1520.0                               Free Wi-Fi  AC  TV    \n",
       "137   3187  1520.0                                           AC  TV    \n",
       "175   3691  1081.0              Free Wi-Fi  Power backup  Security     \n",
       "202   4278  1319.0            Hair Dryer  Free Wi-Fi  Power backup     \n",
       "269   3500  1114.0       Private entrance  Reception  Power backup     \n",
       "271   4333  1442.0                        Geyser  AC  Power backup     \n",
       "283   3103  1640.0           Living Room  Washing Machine  Balcony     \n",
       "304   3005   696.0                 TV  Parking facility  Reception     \n",
       "307   6116  1500.0               Hair Dryer  Reception  Free Wi-Fi     \n",
       "310   8182  1500.0             Reception  Free Wi-Fi  Power backup     \n",
       "315   3370  1496.0             Reception  Free Wi-Fi  Power backup     \n",
       "316   6125   863.0       Reception  Free Wi-Fi  Daily housekeeping     \n",
       "320   6411  1339.0         Private entrance  Reception  Free Wi-Fi     \n",
       "341   6125   863.0                    Elevator  Free Wi-Fi  Geyser     \n",
       "374   4135  1653.0                        Geyser  Power backup  AC     \n",
       "\n",
       "        Remark  \n",
       "5    Excellent  \n",
       "7         Good  \n",
       "14        Good  \n",
       "23   Excellent  \n",
       "28        Good  \n",
       "35   Excellent  \n",
       "57   Excellent  \n",
       "63        Good  \n",
       "72   Excellent  \n",
       "95        Good  \n",
       "100  Excellent  \n",
       "103       Good  \n",
       "105  Excellent  \n",
       "137  Excellent  \n",
       "175       Good  \n",
       "202  Excellent  \n",
       "269       Good  \n",
       "271       Good  \n",
       "283       Good  \n",
       "304  Excellent  \n",
       "307  Excellent  \n",
       "310       Good  \n",
       "315  Excellent  \n",
       "316       Good  \n",
       "320  Excellent  \n",
       "341       Good  \n",
       "374  Excellent  "
      ]
     },
     "execution_count": 18,
     "metadata": {},
     "output_type": "execute_result"
    }
   ],
   "source": [
    "v=df[df['Votes']>3000]\n",
    "v"
   ]
  },
  {
   "cell_type": "code",
   "execution_count": 19,
   "metadata": {},
   "outputs": [
    {
     "data": {
      "image/png": "[encoded data removed]",
      "text/plain": [
       "<Figure size 640x480 with 1 Axes>"
      ]
     },
     "metadata": {},
     "output_type": "display_data"
    }
   ],
   "source": [
    "sns.histplot(data=v,x='Votes')\n",
    "plt.title(\"Votes which are greater than 3000\")\n",
    "plt.show()"
   ]
  },
  {
   "cell_type": "markdown",
   "metadata": {},
   "source": [
    " * from the above plot we are getting the count of hotels greater than 3000 votes"
   ]
  },
  {
   "cell_type": "code",
   "execution_count": 20,
   "metadata": {},
   "outputs": [
    {
     "data": {
      "image/png": "[encoded data removed]",
      "text/plain": [
       "<Figure size 640x480 with 1 Axes>"
      ]
     },
     "metadata": {},
     "output_type": "display_data"
    }
   ],
   "source": [
    "sns.violinplot(data=df,x='Prices')\n",
    "plt.title(\"price range\")\n",
    "plt.show();"
   ]
  },
  {
   "cell_type": "markdown",
   "metadata": {},
   "source": [
    "* from the above the middle dark line is called density it means the more prices are in that range an here most of hotel price are in the range of 500-1500"
   ]
  },
  {
   "cell_type": "code",
   "execution_count": null,
   "metadata": {},
   "outputs": [],
   "source": []
  },
  {
   "cell_type": "code",
   "execution_count": 27,
   "metadata": {
    "scrolled": true
   },
   "outputs": [
    {
     "data": {
      "application/vnd.plotly.v1+json": {
       "config": {
        "plotlyServerURL": "https://plot.ly"
       },
       "data": [
        {
         "alignmentgroup": "True",
         "bingroup": "x",
         "hovertemplate": "Prices=%{x}<br>count=%{y}<extra></extra>",
         "legendgroup": "",
         "marker": {
          "color": "#636efa",
          "pattern": {
           "shape": ""
          }
         },
         "name": "",
         "offsetgroup": "",
         "orientation": "v",
         "showlegend": false,
         "type": "histogram",
         "x": [
          626,
          626,
          614,
          814,
          936,
          1300,
          626,
          918,
          936,
          931,
          868,
          1490,
          1062,
          1345,
          546,
          874,
          1032,
          562,
          1231,
          1158,
          721,
          444,
          823,
          1580,
          874,
          816,
          550,
          814,
          546,
          856,
          1647,
          1231,
          546,
          626,
          886,
          2199,
          618,
          1049,
          1345,
          562,
          682,
          550,
          566,
          691,
          626,
          614,
          1040,
          1158,
          978,
          621,
          614,
          1434,
          936,
          984,
          626,
          640,
          950,
          2025,
          1049,
          1242,
          1490,
          1136,
          1032,
          1447,
          924,
          965,
          999,
          702,
          1314,
          1015,
          931,
          834,
          1300,
          1025,
          798,
          1136,
          856,
          1215,
          901,
          1507,
          1154,
          1257,
          1310,
          889,
          1418,
          1660,
          1198,
          967,
          1749,
          1170,
          1827,
          1485,
          1125,
          1866,
          1749,
          2076,
          1721,
          1482,
          1510,
          1727,
          559,
          829,
          1063,
          921,
          711,
          1520,
          693,
          898,
          827,
          896,
          692,
          449,
          900,
          1829,
          1435,
          695,
          1362,
          1322,
          962,
          913,
          571,
          948,
          1063,
          733,
          676,
          1322,
          711,
          593,
          573,
          687,
          839,
          550,
          692,
          846,
          695,
          576,
          692,
          1520,
          913,
          550,
          687,
          962,
          983,
          936,
          1319,
          546,
          621,
          1188,
          930,
          1308,
          879,
          699,
          550,
          1257,
          1320,
          562,
          905,
          608,
          1677,
          934,
          1165,
          774,
          965,
          3604,
          956,
          2492,
          699,
          1658,
          827,
          673,
          685,
          1030,
          1265,
          2164,
          1003,
          1081,
          1795,
          1627,
          1172,
          1470,
          925,
          1014,
          2396,
          687,
          641,
          891,
          1986,
          906,
          814,
          845,
          1605,
          1868,
          772,
          752,
          626,
          1136,
          921,
          1829,
          1464,
          1370,
          501,
          698,
          1319,
          562,
          509,
          505,
          501,
          598,
          497,
          2550,
          501,
          641,
          564,
          564,
          798,
          1162,
          1199,
          554,
          682,
          665,
          692,
          577,
          697,
          1663,
          687,
          497,
          562,
          692,
          665,
          621,
          999,
          446,
          641,
          497,
          1199,
          1007,
          2550,
          1237,
          999,
          501,
          497,
          682,
          1199,
          526,
          513,
          550,
          934,
          501,
          609,
          501,
          626,
          687,
          626,
          850,
          692,
          999,
          1162,
          1296,
          621,
          978,
          1199,
          673,
          758,
          550,
          1199,
          564,
          626,
          612,
          626,
          1114,
          763,
          1442,
          626,
          748,
          1658,
          1199,
          1241,
          1199,
          999,
          882,
          598,
          687,
          999,
          1640,
          1500,
          550,
          687,
          798,
          1881,
          2795,
          790,
          564,
          1915,
          1091,
          1269,
          564,
          1199,
          564,
          999,
          699,
          501,
          932,
          706,
          501,
          696,
          618,
          1132,
          1500,
          501,
          645,
          1500,
          497,
          546,
          559,
          501,
          1496,
          863,
          793,
          497,
          778,
          1339,
          645,
          559,
          497,
          808,
          497,
          501,
          778,
          497,
          497,
          852,
          680,
          941,
          501,
          497,
          453,
          535,
          501,
          2112,
          497,
          551,
          863,
          508,
          793,
          687,
          1122,
          501,
          564,
          702,
          501,
          1080,
          631,
          501,
          1064,
          546,
          1212,
          1578,
          687,
          853,
          682,
          1132,
          621,
          626,
          604,
          618,
          614,
          606,
          626,
          564,
          1486,
          501,
          691,
          687,
          890,
          1653,
          626,
          501,
          1175,
          497,
          501,
          702,
          623,
          1104,
          1262,
          2562,
          948,
          1959,
          947,
          497,
          769,
          618,
          626,
          824,
          2205,
          2759,
          811,
          1217,
          1099,
          742,
          1103
         ],
         "xaxis": "x",
         "yaxis": "y"
        }
       ],
       "layout": {
        "barmode": "relative",
        "legend": {
         "tracegroupgap": 0
        },
        "template": {
         "data": {
          "bar": [
           {
            "error_x": {
             "color": "#2a3f5f"
            },
            "error_y": {
             "color": "#2a3f5f"
            },
            "marker": {
             "line": {
              "color": "#E5ECF6",
              "width": 0.5
             },
             "pattern": {
              "fillmode": "overlay",
              "size": 10,
              "solidity": 0.2
             }
            },
            "type": "bar"
           }
          ],
          "barpolar": [
           {
            "marker": {
             "line": {
              "color": "#E5ECF6",
              "width": 0.5
             },
             "pattern": {
              "fillmode": "overlay",
              "size": 10,
              "solidity": 0.2
             }
            },
            "type": "barpolar"
           }
          ],
          "carpet": [
           {
            "aaxis": {
             "endlinecolor": "#2a3f5f",
             "gridcolor": "white",
             "linecolor": "white",
             "minorgridcolor": "white",
             "startlinecolor": "#2a3f5f"
            },
            "baxis": {
             "endlinecolor": "#2a3f5f",
             "gridcolor": "white",
             "linecolor": "white",
             "minorgridcolor": "white",
             "startlinecolor": "#2a3f5f"
            },
            "type": "carpet"
           }
          ],
          "choropleth": [
           {
            "colorbar": {
             "outlinewidth": 0,
             "ticks": ""
            },
            "type": "choropleth"
           }
          ],
          "contour": [
           {
            "colorbar": {
             "outlinewidth": 0,
             "ticks": ""
            },
            "colorscale": [
             [
              0,
              "#0d0887"
             ],
             [
              0.1111111111111111,
              "#46039f"
             ],
             [
              0.2222222222222222,
              "#7201a8"
             ],
             [
              0.3333333333333333,
              "#9c179e"
             ],
             [
              0.4444444444444444,
              "#bd3786"
             ],
             [
              0.5555555555555556,
              "#d8576b"
             ],
             [
              0.6666666666666666,
              "#ed7953"
             ],
             [
              0.7777777777777778,
              "#fb9f3a"
             ],
             [
              0.8888888888888888,
              "#fdca26"
             ],
             [
              1,
              "#f0f921"
             ]
            ],
            "type": "contour"
           }
          ],
          "contourcarpet": [
           {
            "colorbar": {
             "outlinewidth": 0,
             "ticks": ""
            },
            "type": "contourcarpet"
           }
          ],
          "heatmap": [
           {
            "colorbar": {
             "outlinewidth": 0,
             "ticks": ""
            },
            "colorscale": [
             [
              0,
              "#0d0887"
             ],
             [
              0.1111111111111111,
              "#46039f"
             ],
             [
              0.2222222222222222,
              "#7201a8"
             ],
             [
              0.3333333333333333,
              "#9c179e"
             ],
             [
              0.4444444444444444,
              "#bd3786"
             ],
             [
              0.5555555555555556,
              "#d8576b"
             ],
             [
              0.6666666666666666,
              "#ed7953"
             ],
             [
              0.7777777777777778,
              "#fb9f3a"
             ],
             [
              0.8888888888888888,
              "#fdca26"
             ],
             [
              1,
              "#f0f921"
             ]
            ],
            "type": "heatmap"
           }
          ],
          "heatmapgl": [
           {
            "colorbar": {
             "outlinewidth": 0,
             "ticks": ""
            },
            "colorscale": [
             [
              0,
              "#0d0887"
             ],
             [
              0.1111111111111111,
              "#46039f"
             ],
             [
              0.2222222222222222,
              "#7201a8"
             ],
             [
              0.3333333333333333,
              "#9c179e"
             ],
             [
              0.4444444444444444,
              "#bd3786"
             ],
             [
              0.5555555555555556,
              "#d8576b"
             ],
             [
              0.6666666666666666,
              "#ed7953"
             ],
             [
              0.7777777777777778,
              "#fb9f3a"
             ],
             [
              0.8888888888888888,
              "#fdca26"
             ],
             [
              1,
              "#f0f921"
             ]
            ],
            "type": "heatmapgl"
           }
          ],
          "histogram": [
           {
            "marker": {
             "pattern": {
              "fillmode": "overlay",
              "size": 10,
              "solidity": 0.2
             }
            },
            "type": "histogram"
           }
          ],
          "histogram2d": [
           {
            "colorbar": {
             "outlinewidth": 0,
             "ticks": ""
            },
            "colorscale": [
             [
              0,
              "#0d0887"
             ],
             [
              0.1111111111111111,
              "#46039f"
             ],
             [
              0.2222222222222222,
              "#7201a8"
             ],
             [
              0.3333333333333333,
              "#9c179e"
             ],
             [
              0.4444444444444444,
              "#bd3786"
             ],
             [
              0.5555555555555556,
              "#d8576b"
             ],
             [
              0.6666666666666666,
              "#ed7953"
             ],
             [
              0.7777777777777778,
              "#fb9f3a"
             ],
             [
              0.8888888888888888,
              "#fdca26"
             ],
             [
              1,
              "#f0f921"
             ]
            ],
            "type": "histogram2d"
           }
          ],
          "histogram2dcontour": [
           {
            "colorbar": {
             "outlinewidth": 0,
             "ticks": ""
            },
            "colorscale": [
             [
              0,
              "#0d0887"
             ],
             [
              0.1111111111111111,
              "#46039f"
             ],
             [
              0.2222222222222222,
              "#7201a8"
             ],
             [
              0.3333333333333333,
              "#9c179e"
             ],
             [
              0.4444444444444444,
              "#bd3786"
             ],
             [
              0.5555555555555556,
              "#d8576b"
             ],
             [
              0.6666666666666666,
              "#ed7953"
             ],
             [
              0.7777777777777778,
              "#fb9f3a"
             ],
             [
              0.8888888888888888,
              "#fdca26"
             ],
             [
              1,
              "#f0f921"
             ]
            ],
            "type": "histogram2dcontour"
           }
          ],
          "mesh3d": [
           {
            "colorbar": {
             "outlinewidth": 0,
             "ticks": ""
            },
            "type": "mesh3d"
           }
          ],
          "parcoords": [
           {
            "line": {
             "colorbar": {
              "outlinewidth": 0,
              "ticks": ""
             }
            },
            "type": "parcoords"
           }
          ],
          "pie": [
           {
            "automargin": true,
            "type": "pie"
           }
          ],
          "scatter": [
           {
            "fillpattern": {
             "fillmode": "overlay",
             "size": 10,
             "solidity": 0.2
            },
            "type": "scatter"
           }
          ],
          "scatter3d": [
           {
            "line": {
             "colorbar": {
              "outlinewidth": 0,
              "ticks": ""
             }
            },
            "marker": {
             "colorbar": {
              "outlinewidth": 0,
              "ticks": ""
             }
            },
            "type": "scatter3d"
           }
          ],
          "scattercarpet": [
           {
            "marker": {
             "colorbar": {
              "outlinewidth": 0,
              "ticks": ""
             }
            },
            "type": "scattercarpet"
           }
          ],
          "scattergeo": [
           {
            "marker": {
             "colorbar": {
              "outlinewidth": 0,
              "ticks": ""
             }
            },
            "type": "scattergeo"
           }
          ],
          "scattergl": [
           {
            "marker": {
             "colorbar": {
              "outlinewidth": 0,
              "ticks": ""
             }
            },
            "type": "scattergl"
           }
          ],
          "scattermapbox": [
           {
            "marker": {
             "colorbar": {
              "outlinewidth": 0,
              "ticks": ""
             }
            },
            "type": "scattermapbox"
           }
          ],
          "scatterpolar": [
           {
            "marker": {
             "colorbar": {
              "outlinewidth": 0,
              "ticks": ""
             }
            },
            "type": "scatterpolar"
           }
          ],
          "scatterpolargl": [
           {
            "marker": {
             "colorbar": {
              "outlinewidth": 0,
              "ticks": ""
             }
            },
            "type": "scatterpolargl"
           }
          ],
          "scatterternary": [
           {
            "marker": {
             "colorbar": {
              "outlinewidth": 0,
              "ticks": ""
             }
            },
            "type": "scatterternary"
           }
          ],
          "surface": [
           {
            "colorbar": {
             "outlinewidth": 0,
             "ticks": ""
            },
            "colorscale": [
             [
              0,
              "#0d0887"
             ],
             [
              0.1111111111111111,
              "#46039f"
             ],
             [
              0.2222222222222222,
              "#7201a8"
             ],
             [
              0.3333333333333333,
              "#9c179e"
             ],
             [
              0.4444444444444444,
              "#bd3786"
             ],
             [
              0.5555555555555556,
              "#d8576b"
             ],
             [
              0.6666666666666666,
              "#ed7953"
             ],
             [
              0.7777777777777778,
              "#fb9f3a"
             ],
             [
              0.8888888888888888,
              "#fdca26"
             ],
             [
              1,
              "#f0f921"
             ]
            ],
            "type": "surface"
           }
          ],
          "table": [
           {
            "cells": {
             "fill": {
              "color": "#EBF0F8"
             },
             "line": {
              "color": "white"
             }
            },
            "header": {
             "fill": {
              "color": "#C8D4E3"
             },
             "line": {
              "color": "white"
             }
            },
            "type": "table"
           }
          ]
         },
         "layout": {
          "annotationdefaults": {
           "arrowcolor": "#2a3f5f",
           "arrowhead": 0,
           "arrowwidth": 1
          },
          "autotypenumbers": "strict",
          "coloraxis": {
           "colorbar": {
            "outlinewidth": 0,
            "ticks": ""
           }
          },
          "colorscale": {
           "diverging": [
            [
             0,
             "#8e0152"
            ],
            [
             0.1,
             "#c51b7d"
            ],
            [
             0.2,
             "#de77ae"
            ],
            [
             0.3,
             "#f1b6da"
            ],
            [
             0.4,
             "#fde0ef"
            ],
            [
             0.5,
             "#f7f7f7"
            ],
            [
             0.6,
             "#e6f5d0"
            ],
            [
             0.7,
             "#b8e186"
            ],
            [
             0.8,
             "#7fbc41"
            ],
            [
             0.9,
             "#4d9221"
            ],
            [
             1,
             "#276419"
            ]
           ],
           "sequential": [
            [
             0,
             "#0d0887"
            ],
            [
             0.1111111111111111,
             "#46039f"
            ],
            [
             0.2222222222222222,
             "#7201a8"
            ],
            [
             0.3333333333333333,
             "#9c179e"
            ],
            [
             0.4444444444444444,
             "#bd3786"
            ],
            [
             0.5555555555555556,
             "#d8576b"
            ],
            [
             0.6666666666666666,
             "#ed7953"
            ],
            [
             0.7777777777777778,
             "#fb9f3a"
            ],
            [
             0.8888888888888888,
             "#fdca26"
            ],
            [
             1,
             "#f0f921"
            ]
           ],
           "sequentialminus": [
            [
             0,
             "#0d0887"
            ],
            [
             0.1111111111111111,
             "#46039f"
            ],
            [
             0.2222222222222222,
             "#7201a8"
            ],
            [
             0.3333333333333333,
             "#9c179e"
            ],
            [
             0.4444444444444444,
             "#bd3786"
            ],
            [
             0.5555555555555556,
             "#d8576b"
            ],
            [
             0.6666666666666666,
             "#ed7953"
            ],
            [
             0.7777777777777778,
             "#fb9f3a"
            ],
            [
             0.8888888888888888,
             "#fdca26"
            ],
            [
             1,
             "#f0f921"
            ]
           ]
          },
          "colorway": [
           "#636efa",
           "#EF553B",
           "#00cc96",
           "#ab63fa",
           "#FFA15A",
           "#19d3f3",
           "#FF6692",
           "#B6E880",
           "#FF97FF",
           "#FECB52"
          ],
          "font": {
           "color": "#2a3f5f"
          },
          "geo": {
           "bgcolor": "white",
           "lakecolor": "white",
           "landcolor": "#E5ECF6",
           "showlakes": true,
           "showland": true,
           "subunitcolor": "white"
          },
          "hoverlabel": {
           "align": "left"
          },
          "hovermode": "closest",
          "mapbox": {
           "style": "light"
          },
          "paper_bgcolor": "white",
          "plot_bgcolor": "#E5ECF6",
          "polar": {
           "angularaxis": {
            "gridcolor": "white",
            "linecolor": "white",
            "ticks": ""
           },
           "bgcolor": "#E5ECF6",
           "radialaxis": {
            "gridcolor": "white",
            "linecolor": "white",
            "ticks": ""
           }
          },
          "scene": {
           "xaxis": {
            "backgroundcolor": "#E5ECF6",
            "gridcolor": "white",
            "gridwidth": 2,
            "linecolor": "white",
            "showbackground": true,
            "ticks": "",
            "zerolinecolor": "white"
           },
           "yaxis": {
            "backgroundcolor": "#E5ECF6",
            "gridcolor": "white",
            "gridwidth": 2,
            "linecolor": "white",
            "showbackground": true,
            "ticks": "",
            "zerolinecolor": "white"
           },
           "zaxis": {
            "backgroundcolor": "#E5ECF6",
            "gridcolor": "white",
            "gridwidth": 2,
            "linecolor": "white",
            "showbackground": true,
            "ticks": "",
            "zerolinecolor": "white"
           }
          },
          "shapedefaults": {
           "line": {
            "color": "#2a3f5f"
           }
          },
          "ternary": {
           "aaxis": {
            "gridcolor": "white",
            "linecolor": "white",
            "ticks": ""
           },
           "baxis": {
            "gridcolor": "white",
            "linecolor": "white",
            "ticks": ""
           },
           "bgcolor": "#E5ECF6",
           "caxis": {
            "gridcolor": "white",
            "linecolor": "white",
            "ticks": ""
           }
          },
          "title": {
           "x": 0.05
          },
          "xaxis": {
           "automargin": true,
           "gridcolor": "white",
           "linecolor": "white",
           "ticks": "",
           "title": {
            "standoff": 15
           },
           "zerolinecolor": "white",
           "zerolinewidth": 2
          },
          "yaxis": {
           "automargin": true,
           "gridcolor": "white",
           "linecolor": "white",
           "ticks": "",
           "title": {
            "standoff": 15
           },
           "zerolinecolor": "white",
           "zerolinewidth": 2
          }
         }
        },
        "title": {
         "text": "Prices and its count"
        },
        "xaxis": {
         "anchor": "y",
         "domain": [
          0,
          1
         ],
         "title": {
          "text": "Prices"
         }
        },
        "yaxis": {
         "anchor": "x",
         "domain": [
          0,
          1
         ],
         "title": {
          "text": "count"
         }
        }
       }
      },
      "text/html": [
       "<div>                            <div id=\"7fe2ec6a-f6e9-4a57-8baa-39f41d86e602\" class=\"plotly-graph-div\" style=\"height:525px; width:100%;\"></div>            <script type=\"text/javascript\">                require([\"plotly\"], function(Plotly) {                    window.PLOTLYENV=window.PLOTLYENV || {};                                    if (document.getElementById(\"7fe2ec6a-f6e9-4a57-8baa-39f41d86e602\")) {                    Plotly.newPlot(                        \"7fe2ec6a-f6e9-4a57-8baa-39f41d86e602\",                        [{\"alignmentgroup\":\"True\",\"bingroup\":\"x\",\"hovertemplate\":\"Prices=%{x}<br>count=%{y}<extra></extra>\",\"legendgroup\":\"\",\"marker\":{\"color\":\"#636efa\",\"pattern\":{\"shape\":\"\"}},\"name\":\"\",\"offsetgroup\":\"\",\"orientation\":\"v\",\"showlegend\":false,\"x\":[626.0,626.0,614.0,814.0,936.0,1300.0,626.0,918.0,936.0,931.0,868.0,1490.0,1062.0,1345.0,546.0,874.0,1032.0,562.0,1231.0,1158.0,721.0,444.0,823.0,1580.0,874.0,816.0,550.0,814.0,546.0,856.0,1647.0,1231.0,546.0,626.0,886.0,2199.0,618.0,1049.0,1345.0,562.0,682.0,550.0,566.0,691.0,626.0,614.0,1040.0,1158.0,978.0,621.0,614.0,1434.0,936.0,984.0,626.0,640.0,950.0,2025.0,1049.0,1242.0,1490.0,1136.0,1032.0,1447.0,924.0,965.0,999.0,702.0,1314.0,1015.0,931.0,834.0,1300.0,1025.0,798.0,1136.0,856.0,1215.0,901.0,1507.0,1154.0,1257.0,1310.0,889.0,1418.0,1660.0,1198.0,967.0,1749.0,1170.0,1827.0,1485.0,1125.0,1866.0,1749.0,2076.0,1721.0,1482.0,1510.0,1727.0,559.0,829.0,1063.0,921.0,711.0,1520.0,693.0,898.0,827.0,896.0,692.0,449.0,900.0,1829.0,1435.0,695.0,1362.0,1322.0,962.0,913.0,571.0,948.0,1063.0,733.0,676.0,1322.0,711.0,593.0,573.0,687.0,839.0,550.0,692.0,846.0,695.0,576.0,692.0,1520.0,913.0,550.0,687.0,962.0,983.0,936.0,1319.0,546.0,621.0,1188.0,930.0,1308.0,879.0,699.0,550.0,1257.0,1320.0,562.0,905.0,608.0,1677.0,934.0,1165.0,774.0,965.0,3604.0,956.0,2492.0,699.0,1658.0,827.0,673.0,685.0,1030.0,1265.0,2164.0,1003.0,1081.0,1795.0,1627.0,1172.0,1470.0,925.0,1014.0,2396.0,687.0,641.0,891.0,1986.0,906.0,814.0,845.0,1605.0,1868.0,772.0,752.0,626.0,1136.0,921.0,1829.0,1464.0,1370.0,501.0,698.0,1319.0,562.0,509.0,505.0,501.0,598.0,497.0,2550.0,501.0,641.0,564.0,564.0,798.0,1162.0,1199.0,554.0,682.0,665.0,692.0,577.0,697.0,1663.0,687.0,497.0,562.0,692.0,665.0,621.0,999.0,446.0,641.0,497.0,1199.0,1007.0,2550.0,1237.0,999.0,501.0,497.0,682.0,1199.0,526.0,513.0,550.0,934.0,501.0,609.0,501.0,626.0,687.0,626.0,850.0,692.0,999.0,1162.0,1296.0,621.0,978.0,1199.0,673.0,758.0,550.0,1199.0,564.0,626.0,612.0,626.0,1114.0,763.0,1442.0,626.0,748.0,1658.0,1199.0,1241.0,1199.0,999.0,882.0,598.0,687.0,999.0,1640.0,1500.0,550.0,687.0,798.0,1881.0,2795.0,790.0,564.0,1915.0,1091.0,1269.0,564.0,1199.0,564.0,999.0,699.0,501.0,932.0,706.0,501.0,696.0,618.0,1132.0,1500.0,501.0,645.0,1500.0,497.0,546.0,559.0,501.0,1496.0,863.0,793.0,497.0,778.0,1339.0,645.0,559.0,497.0,808.0,497.0,501.0,778.0,497.0,497.0,852.0,680.0,941.0,501.0,497.0,453.0,535.0,501.0,2112.0,497.0,551.0,863.0,508.0,793.0,687.0,1122.0,501.0,564.0,702.0,501.0,1080.0,631.0,501.0,1064.0,546.0,1212.0,1578.0,687.0,853.0,682.0,1132.0,621.0,626.0,604.0,618.0,614.0,606.0,626.0,564.0,1486.0,501.0,691.0,687.0,890.0,1653.0,626.0,501.0,1175.0,497.0,501.0,702.0,623.0,1104.0,1262.0,2562.0,948.0,1959.0,947.0,497.0,769.0,618.0,626.0,824.0,2205.0,2759.0,811.0,1217.0,1099.0,742.0,1103.0],\"xaxis\":\"x\",\"yaxis\":\"y\",\"type\":\"histogram\"}],                        {\"template\":{\"data\":{\"histogram2dcontour\":[{\"type\":\"histogram2dcontour\",\"colorbar\":{\"outlinewidth\":0,\"ticks\":\"\"},\"colorscale\":[[0.0,\"#0d0887\"],[0.1111111111111111,\"#46039f\"],[0.2222222222222222,\"#7201a8\"],[0.3333333333333333,\"#9c179e\"],[0.4444444444444444,\"#bd3786\"],[0.5555555555555556,\"#d8576b\"],[0.6666666666666666,\"#ed7953\"],[0.7777777777777778,\"#fb9f3a\"],[0.8888888888888888,\"#fdca26\"],[1.0,\"#f0f921\"]]}],\"choropleth\":[{\"type\":\"choropleth\",\"colorbar\":{\"outlinewidth\":0,\"ticks\":\"\"}}],\"histogram2d\":[{\"type\":\"histogram2d\",\"colorbar\":{\"outlinewidth\":0,\"ticks\":\"\"},\"colorscale\":[[0.0,\"#0d0887\"],[0.1111111111111111,\"#46039f\"],[0.2222222222222222,\"#7201a8\"],[0.3333333333333333,\"#9c179e\"],[0.4444444444444444,\"#bd3786\"],[0.5555555555555556,\"#d8576b\"],[0.6666666666666666,\"#ed7953\"],[0.7777777777777778,\"#fb9f3a\"],[0.8888888888888888,\"#fdca26\"],[1.0,\"#f0f921\"]]}],\"heatmap\":[{\"type\":\"heatmap\",\"colorbar\":{\"outlinewidth\":0,\"ticks\":\"\"},\"colorscale\":[[0.0,\"#0d0887\"],[0.1111111111111111,\"#46039f\"],[0.2222222222222222,\"#7201a8\"],[0.3333333333333333,\"#9c179e\"],[0.4444444444444444,\"#bd3786\"],[0.5555555555555556,\"#d8576b\"],[0.6666666666666666,\"#ed7953\"],[0.7777777777777778,\"#fb9f3a\"],[0.8888888888888888,\"#fdca26\"],[1.0,\"#f0f921\"]]}],\"heatmapgl\":[{\"type\":\"heatmapgl\",\"colorbar\":{\"outlinewidth\":0,\"ticks\":\"\"},\"colorscale\":[[0.0,\"#0d0887\"],[0.1111111111111111,\"#46039f\"],[0.2222222222222222,\"#7201a8\"],[0.3333333333333333,\"#9c179e\"],[0.4444444444444444,\"#bd3786\"],[0.5555555555555556,\"#d8576b\"],[0.6666666666666666,\"#ed7953\"],[0.7777777777777778,\"#fb9f3a\"],[0.8888888888888888,\"#fdca26\"],[1.0,\"#f0f921\"]]}],\"contourcarpet\":[{\"type\":\"contourcarpet\",\"colorbar\":{\"outlinewidth\":0,\"ticks\":\"\"}}],\"contour\":[{\"type\":\"contour\",\"colorbar\":{\"outlinewidth\":0,\"ticks\":\"\"},\"colorscale\":[[0.0,\"#0d0887\"],[0.1111111111111111,\"#46039f\"],[0.2222222222222222,\"#7201a8\"],[0.3333333333333333,\"#9c179e\"],[0.4444444444444444,\"#bd3786\"],[0.5555555555555556,\"#d8576b\"],[0.6666666666666666,\"#ed7953\"],[0.7777777777777778,\"#fb9f3a\"],[0.8888888888888888,\"#fdca26\"],[1.0,\"#f0f921\"]]}],\"surface\":[{\"type\":\"surface\",\"colorbar\":{\"outlinewidth\":0,\"ticks\":\"\"},\"colorscale\":[[0.0,\"#0d0887\"],[0.1111111111111111,\"#46039f\"],[0.2222222222222222,\"#7201a8\"],[0.3333333333333333,\"#9c179e\"],[0.4444444444444444,\"#bd3786\"],[0.5555555555555556,\"#d8576b\"],[0.6666666666666666,\"#ed7953\"],[0.7777777777777778,\"#fb9f3a\"],[0.8888888888888888,\"#fdca26\"],[1.0,\"#f0f921\"]]}],\"mesh3d\":[{\"type\":\"mesh3d\",\"colorbar\":{\"outlinewidth\":0,\"ticks\":\"\"}}],\"scatter\":[{\"fillpattern\":{\"fillmode\":\"overlay\",\"size\":10,\"solidity\":0.2},\"type\":\"scatter\"}],\"parcoords\":[{\"type\":\"parcoords\",\"line\":{\"colorbar\":{\"outlinewidth\":0,\"ticks\":\"\"}}}],\"scatterpolargl\":[{\"type\":\"scatterpolargl\",\"marker\":{\"colorbar\":{\"outlinewidth\":0,\"ticks\":\"\"}}}],\"bar\":[{\"error_x\":{\"color\":\"#2a3f5f\"},\"error_y\":{\"color\":\"#2a3f5f\"},\"marker\":{\"line\":{\"color\":\"#E5ECF6\",\"width\":0.5},\"pattern\":{\"fillmode\":\"overlay\",\"size\":10,\"solidity\":0.2}},\"type\":\"bar\"}],\"scattergeo\":[{\"type\":\"scattergeo\",\"marker\":{\"colorbar\":{\"outlinewidth\":0,\"ticks\":\"\"}}}],\"scatterpolar\":[{\"type\":\"scatterpolar\",\"marker\":{\"colorbar\":{\"outlinewidth\":0,\"ticks\":\"\"}}}],\"histogram\":[{\"marker\":{\"pattern\":{\"fillmode\":\"overlay\",\"size\":10,\"solidity\":0.2}},\"type\":\"histogram\"}],\"scattergl\":[{\"type\":\"scattergl\",\"marker\":{\"colorbar\":{\"outlinewidth\":0,\"ticks\":\"\"}}}],\"scatter3d\":[{\"type\":\"scatter3d\",\"line\":{\"colorbar\":{\"outlinewidth\":0,\"ticks\":\"\"}},\"marker\":{\"colorbar\":{\"outlinewidth\":0,\"ticks\":\"\"}}}],\"scattermapbox\":[{\"type\":\"scattermapbox\",\"marker\":{\"colorbar\":{\"outlinewidth\":0,\"ticks\":\"\"}}}],\"scatterternary\":[{\"type\":\"scatterternary\",\"marker\":{\"colorbar\":{\"outlinewidth\":0,\"ticks\":\"\"}}}],\"scattercarpet\":[{\"type\":\"scattercarpet\",\"marker\":{\"colorbar\":{\"outlinewidth\":0,\"ticks\":\"\"}}}],\"carpet\":[{\"aaxis\":{\"endlinecolor\":\"#2a3f5f\",\"gridcolor\":\"white\",\"linecolor\":\"white\",\"minorgridcolor\":\"white\",\"startlinecolor\":\"#2a3f5f\"},\"baxis\":{\"endlinecolor\":\"#2a3f5f\",\"gridcolor\":\"white\",\"linecolor\":\"white\",\"minorgridcolor\":\"white\",\"startlinecolor\":\"#2a3f5f\"},\"type\":\"carpet\"}],\"table\":[{\"cells\":{\"fill\":{\"color\":\"#EBF0F8\"},\"line\":{\"color\":\"white\"}},\"header\":{\"fill\":{\"color\":\"#C8D4E3\"},\"line\":{\"color\":\"white\"}},\"type\":\"table\"}],\"barpolar\":[{\"marker\":{\"line\":{\"color\":\"#E5ECF6\",\"width\":0.5},\"pattern\":{\"fillmode\":\"overlay\",\"size\":10,\"solidity\":0.2}},\"type\":\"barpolar\"}],\"pie\":[{\"automargin\":true,\"type\":\"pie\"}]},\"layout\":{\"autotypenumbers\":\"strict\",\"colorway\":[\"#636efa\",\"#EF553B\",\"#00cc96\",\"#ab63fa\",\"#FFA15A\",\"#19d3f3\",\"#FF6692\",\"#B6E880\",\"#FF97FF\",\"#FECB52\"],\"font\":{\"color\":\"#2a3f5f\"},\"hovermode\":\"closest\",\"hoverlabel\":{\"align\":\"left\"},\"paper_bgcolor\":\"white\",\"plot_bgcolor\":\"#E5ECF6\",\"polar\":{\"bgcolor\":\"#E5ECF6\",\"angularaxis\":{\"gridcolor\":\"white\",\"linecolor\":\"white\",\"ticks\":\"\"},\"radialaxis\":{\"gridcolor\":\"white\",\"linecolor\":\"white\",\"ticks\":\"\"}},\"ternary\":{\"bgcolor\":\"#E5ECF6\",\"aaxis\":{\"gridcolor\":\"white\",\"linecolor\":\"white\",\"ticks\":\"\"},\"baxis\":{\"gridcolor\":\"white\",\"linecolor\":\"white\",\"ticks\":\"\"},\"caxis\":{\"gridcolor\":\"white\",\"linecolor\":\"white\",\"ticks\":\"\"}},\"coloraxis\":{\"colorbar\":{\"outlinewidth\":0,\"ticks\":\"\"}},\"colorscale\":{\"sequential\":[[0.0,\"#0d0887\"],[0.1111111111111111,\"#46039f\"],[0.2222222222222222,\"#7201a8\"],[0.3333333333333333,\"#9c179e\"],[0.4444444444444444,\"#bd3786\"],[0.5555555555555556,\"#d8576b\"],[0.6666666666666666,\"#ed7953\"],[0.7777777777777778,\"#fb9f3a\"],[0.8888888888888888,\"#fdca26\"],[1.0,\"#f0f921\"]],\"sequentialminus\":[[0.0,\"#0d0887\"],[0.1111111111111111,\"#46039f\"],[0.2222222222222222,\"#7201a8\"],[0.3333333333333333,\"#9c179e\"],[0.4444444444444444,\"#bd3786\"],[0.5555555555555556,\"#d8576b\"],[0.6666666666666666,\"#ed7953\"],[0.7777777777777778,\"#fb9f3a\"],[0.8888888888888888,\"#fdca26\"],[1.0,\"#f0f921\"]],\"diverging\":[[0,\"#8e0152\"],[0.1,\"#c51b7d\"],[0.2,\"#de77ae\"],[0.3,\"#f1b6da\"],[0.4,\"#fde0ef\"],[0.5,\"#f7f7f7\"],[0.6,\"#e6f5d0\"],[0.7,\"#b8e186\"],[0.8,\"#7fbc41\"],[0.9,\"#4d9221\"],[1,\"#276419\"]]},\"xaxis\":{\"gridcolor\":\"white\",\"linecolor\":\"white\",\"ticks\":\"\",\"title\":{\"standoff\":15},\"zerolinecolor\":\"white\",\"automargin\":true,\"zerolinewidth\":2},\"yaxis\":{\"gridcolor\":\"white\",\"linecolor\":\"white\",\"ticks\":\"\",\"title\":{\"standoff\":15},\"zerolinecolor\":\"white\",\"automargin\":true,\"zerolinewidth\":2},\"scene\":{\"xaxis\":{\"backgroundcolor\":\"#E5ECF6\",\"gridcolor\":\"white\",\"linecolor\":\"white\",\"showbackground\":true,\"ticks\":\"\",\"zerolinecolor\":\"white\",\"gridwidth\":2},\"yaxis\":{\"backgroundcolor\":\"#E5ECF6\",\"gridcolor\":\"white\",\"linecolor\":\"white\",\"showbackground\":true,\"ticks\":\"\",\"zerolinecolor\":\"white\",\"gridwidth\":2},\"zaxis\":{\"backgroundcolor\":\"#E5ECF6\",\"gridcolor\":\"white\",\"linecolor\":\"white\",\"showbackground\":true,\"ticks\":\"\",\"zerolinecolor\":\"white\",\"gridwidth\":2}},\"shapedefaults\":{\"line\":{\"color\":\"#2a3f5f\"}},\"annotationdefaults\":{\"arrowcolor\":\"#2a3f5f\",\"arrowhead\":0,\"arrowwidth\":1},\"geo\":{\"bgcolor\":\"white\",\"landcolor\":\"#E5ECF6\",\"subunitcolor\":\"white\",\"showland\":true,\"showlakes\":true,\"lakecolor\":\"white\"},\"title\":{\"x\":0.05},\"mapbox\":{\"style\":\"light\"}}},\"xaxis\":{\"anchor\":\"y\",\"domain\":[0.0,1.0],\"title\":{\"text\":\"Prices\"}},\"yaxis\":{\"anchor\":\"x\",\"domain\":[0.0,1.0],\"title\":{\"text\":\"count\"}},\"legend\":{\"tracegroupgap\":0},\"title\":{\"text\":\"Prices and its count\"},\"barmode\":\"relative\"},                        {\"responsive\": true}                    ).then(function(){\n",
       "                            \n",
       "var gd = document.getElementById('7fe2ec6a-f6e9-4a57-8baa-39f41d86e602');\n",
       "var x = new MutationObserver(function (mutations, observer) {{\n",
       "        var display = window.getComputedStyle(gd).display;\n",
       "        if (!display || display === 'none') {{\n",
       "            console.log([gd, 'removed!']);\n",
       "            Plotly.purge(gd);\n",
       "            observer.disconnect();\n",
       "        }}\n",
       "}});\n",
       "\n",
       "// Listen for the removal of the full notebook cells\n",
       "var notebookContainer = gd.closest('#notebook-container');\n",
       "if (notebookContainer) {{\n",
       "    x.observe(notebookContainer, {childList: true});\n",
       "}}\n",
       "\n",
       "// Listen for the clearing of the current output cell\n",
       "var outputEl = gd.closest('.output');\n",
       "if (outputEl) {{\n",
       "    x.observe(outputEl, {childList: true});\n",
       "}}\n",
       "\n",
       "                        })                };                });            </script>        </div>"
      ]
     },
     "metadata": {},
     "output_type": "display_data"
    }
   ],
   "source": [
    "px.histogram(df['Prices'],x='Prices',title='Prices and its count')"
   ]
  },
  {
   "cell_type": "markdown",
   "metadata": {},
   "source": [
    "* from above graph we will get exact number of hotels, and the price range,when we place cursor on that blue bar we will get variable,value,count"
   ]
  },
  {
   "cell_type": "code",
   "execution_count": 19,
   "metadata": {},
   "outputs": [
    {
     "name": "stderr",
     "output_type": "stream",
     "text": [
      "C:\\Users\\admin\\AppData\\Local\\Temp\\ipykernel_2356\\2728559003.py:1: UserWarning:\n",
      "\n",
      "\n",
      "\n",
      "`distplot` is a deprecated function and will be removed in seaborn v0.14.0.\n",
      "\n",
      "Please adapt your code to use either `displot` (a figure-level function with\n",
      "similar flexibility) or `histplot` (an axes-level function for histograms).\n",
      "\n",
      "For a guide to updating your code to use the new functions, please see\n",
      "https://gist.github.com/mwaskom/de44147ed2974457ad6372750bbe5751\n",
      "\n",
      "\n"
     ]
    },
    {
     "data": {
      "image/png": "[encoded data removed]",
      "text/plain": [
       "<Figure size 640x480 with 1 Axes>"
      ]
     },
     "metadata": {},
     "output_type": "display_data"
    }
   ],
   "source": [
    "sns.distplot(df['Votes'])\n",
    "plt.title(\"Density of votes\")\n",
    "plt.show();"
   ]
  },
  {
   "cell_type": "markdown",
   "metadata": {},
   "source": [
    "* from the above graph we can conclude the desnity is more in the range 0-2000 votes ,so most of the hotel votes are in that range"
   ]
  },
  {
   "cell_type": "code",
   "execution_count": 20,
   "metadata": {},
   "outputs": [
    {
     "data": {
      "text/plain": [
       "<AxesSubplot:xlabel='Ratings'>"
      ]
     },
     "execution_count": 20,
     "metadata": {},
     "output_type": "execute_result"
    },
    {
     "data": {
      "image/png": "[encoded data removed]",
      "text/plain": [
       "<Figure size 640x480 with 1 Axes>"
      ]
     },
     "metadata": {},
     "output_type": "display_data"
    }
   ],
   "source": [
    "sns.violinplot(data=df,x='Ratings')"
   ]
  },
  {
   "cell_type": "markdown",
   "metadata": {},
   "source": [
    "* from the above graph the middle line is called density it means the more ratings are in that range,so we can conclude that\n",
    "more hotel ratings are in that range"
   ]
  },
  {
   "cell_type": "markdown",
   "metadata": {},
   "source": [
    "### Categorical columns"
   ]
  },
  {
   "cell_type": "code",
   "execution_count": 21,
   "metadata": {},
   "outputs": [
    {
     "data": {
      "image/png": "[encoded data removed]",
      "text/plain": [
       "<Figure size 640x480 with 1 Axes>"
      ]
     },
     "metadata": {},
     "output_type": "display_data"
    }
   ],
   "source": [
    "df['Remark'].value_counts().plot(kind='bar')\n",
    "plt.title(\"count of Hotels Remarks\")\n",
    "plt.show()"
   ]
  },
  {
   "cell_type": "markdown",
   "metadata": {},
   "source": [
    "* from above graph we are getting count of total number of good,average and excellent  hotels in all cities "
   ]
  },
  {
   "cell_type": "code",
   "execution_count": 22,
   "metadata": {},
   "outputs": [
    {
     "data": {
      "image/png": "[encoded data removed]",
      "text/plain": [
       "<Figure size 640x480 with 1 Axes>"
      ]
     },
     "metadata": {},
     "output_type": "display_data"
    }
   ],
   "source": [
    "color_sns=sns.color_palette(\"Accent\")\n",
    "plt.pie(df['Remark'].value_counts(),labels=df['Remark'].value_counts().index,autopct=\"%1.1f%%\",colors=color_sns)\n",
    "plt.title(\"Remark percentages\")\n",
    "plt.show()"
   ]
  },
  {
   "cell_type": "markdown",
   "metadata": {},
   "source": [
    "* from the above grapgh here we are getting the percentage of Good,average and excellent hotels in each city"
   ]
  },
  {
   "cell_type": "code",
   "execution_count": 23,
   "metadata": {},
   "outputs": [
    {
     "data": {
      "application/vnd.plotly.v1+json": {
       "config": {
        "plotlyServerURL": "https://plot.ly"
       },
       "data": [
        {
         "alignmentgroup": "True",
         "hovertemplate": "variable=Remark<br>index=%{x}<br>value=%{y}<extra></extra>",
         "legendgroup": "Remark",
         "marker": {
          "color": "#636efa",
          "pattern": {
           "shape": ""
          }
         },
         "name": "Remark",
         "offsetgroup": "Remark",
         "orientation": "v",
         "showlegend": true,
         "textposition": "auto",
         "type": "bar",
         "x": [
          "Good",
          "Average",
          "Excellent"
         ],
         "xaxis": "x",
         "y": [
          282,
          68,
          50
         ],
         "yaxis": "y"
        }
       ],
       "layout": {
        "barmode": "relative",
        "legend": {
         "title": {
          "text": "variable"
         },
         "tracegroupgap": 0
        },
        "template": {
         "data": {
          "bar": [
           {
            "error_x": {
             "color": "#2a3f5f"
            },
            "error_y": {
             "color": "#2a3f5f"
            },
            "marker": {
             "line": {
              "color": "#E5ECF6",
              "width": 0.5
             },
             "pattern": {
              "fillmode": "overlay",
              "size": 10,
              "solidity": 0.2
             }
            },
            "type": "bar"
           }
          ],
          "barpolar": [
           {
            "marker": {
             "line": {
              "color": "#E5ECF6",
              "width": 0.5
             },
             "pattern": {
              "fillmode": "overlay",
              "size": 10,
              "solidity": 0.2
             }
            },
            "type": "barpolar"
           }
          ],
          "carpet": [
           {
            "aaxis": {
             "endlinecolor": "#2a3f5f",
             "gridcolor": "white",
             "linecolor": "white",
             "minorgridcolor": "white",
             "startlinecolor": "#2a3f5f"
            },
            "baxis": {
             "endlinecolor": "#2a3f5f",
             "gridcolor": "white",
             "linecolor": "white",
             "minorgridcolor": "white",
             "startlinecolor": "#2a3f5f"
            },
            "type": "carpet"
           }
          ],
          "choropleth": [
           {
            "colorbar": {
             "outlinewidth": 0,
             "ticks": ""
            },
            "type": "choropleth"
           }
          ],
          "contour": [
           {
            "colorbar": {
             "outlinewidth": 0,
             "ticks": ""
            },
            "colorscale": [
             [
              0,
              "#0d0887"
             ],
             [
              0.1111111111111111,
              "#46039f"
             ],
             [
              0.2222222222222222,
              "#7201a8"
             ],
             [
              0.3333333333333333,
              "#9c179e"
             ],
             [
              0.4444444444444444,
              "#bd3786"
             ],
             [
              0.5555555555555556,
              "#d8576b"
             ],
             [
              0.6666666666666666,
              "#ed7953"
             ],
             [
              0.7777777777777778,
              "#fb9f3a"
             ],
             [
              0.8888888888888888,
              "#fdca26"
             ],
             [
              1,
              "#f0f921"
             ]
            ],
            "type": "contour"
           }
          ],
          "contourcarpet": [
           {
            "colorbar": {
             "outlinewidth": 0,
             "ticks": ""
            },
            "type": "contourcarpet"
           }
          ],
          "heatmap": [
           {
            "colorbar": {
             "outlinewidth": 0,
             "ticks": ""
            },
            "colorscale": [
             [
              0,
              "#0d0887"
             ],
             [
              0.1111111111111111,
              "#46039f"
             ],
             [
              0.2222222222222222,
              "#7201a8"
             ],
             [
              0.3333333333333333,
              "#9c179e"
             ],
             [
              0.4444444444444444,
              "#bd3786"
             ],
             [
              0.5555555555555556,
              "#d8576b"
             ],
             [
              0.6666666666666666,
              "#ed7953"
             ],
             [
              0.7777777777777778,
              "#fb9f3a"
             ],
             [
              0.8888888888888888,
              "#fdca26"
             ],
             [
              1,
              "#f0f921"
             ]
            ],
            "type": "heatmap"
           }
          ],
          "heatmapgl": [
           {
            "colorbar": {
             "outlinewidth": 0,
             "ticks": ""
            },
            "colorscale": [
             [
              0,
              "#0d0887"
             ],
             [
              0.1111111111111111,
              "#46039f"
             ],
             [
              0.2222222222222222,
              "#7201a8"
             ],
             [
              0.3333333333333333,
              "#9c179e"
             ],
             [
              0.4444444444444444,
              "#bd3786"
             ],
             [
              0.5555555555555556,
              "#d8576b"
             ],
             [
              0.6666666666666666,
              "#ed7953"
             ],
             [
              0.7777777777777778,
              "#fb9f3a"
             ],
             [
              0.8888888888888888,
              "#fdca26"
             ],
             [
              1,
              "#f0f921"
             ]
            ],
            "type": "heatmapgl"
           }
          ],
          "histogram": [
           {
            "marker": {
             "pattern": {
              "fillmode": "overlay",
              "size": 10,
              "solidity": 0.2
             }
            },
            "type": "histogram"
           }
          ],
          "histogram2d": [
           {
            "colorbar": {
             "outlinewidth": 0,
             "ticks": ""
            },
            "colorscale": [
             [
              0,
              "#0d0887"
             ],
             [
              0.1111111111111111,
              "#46039f"
             ],
             [
              0.2222222222222222,
              "#7201a8"
             ],
             [
              0.3333333333333333,
              "#9c179e"
             ],
             [
              0.4444444444444444,
              "#bd3786"
             ],
             [
              0.5555555555555556,
              "#d8576b"
             ],
             [
              0.6666666666666666,
              "#ed7953"
             ],
             [
              0.7777777777777778,
              "#fb9f3a"
             ],
             [
              0.8888888888888888,
              "#fdca26"
             ],
             [
              1,
              "#f0f921"
             ]
            ],
            "type": "histogram2d"
           }
          ],
          "histogram2dcontour": [
           {
            "colorbar": {
             "outlinewidth": 0,
             "ticks": ""
            },
            "colorscale": [
             [
              0,
              "#0d0887"
             ],
             [
              0.1111111111111111,
              "#46039f"
             ],
             [
              0.2222222222222222,
              "#7201a8"
             ],
             [
              0.3333333333333333,
              "#9c179e"
             ],
             [
              0.4444444444444444,
              "#bd3786"
             ],
             [
              0.5555555555555556,
              "#d8576b"
             ],
             [
              0.6666666666666666,
              "#ed7953"
             ],
             [
              0.7777777777777778,
              "#fb9f3a"
             ],
             [
              0.8888888888888888,
              "#fdca26"
             ],
             [
              1,
              "#f0f921"
             ]
            ],
            "type": "histogram2dcontour"
           }
          ],
          "mesh3d": [
           {
            "colorbar": {
             "outlinewidth": 0,
             "ticks": ""
            },
            "type": "mesh3d"
           }
          ],
          "parcoords": [
           {
            "line": {
             "colorbar": {
              "outlinewidth": 0,
              "ticks": ""
             }
            },
            "type": "parcoords"
           }
          ],
          "pie": [
           {
            "automargin": true,
            "type": "pie"
           }
          ],
          "scatter": [
           {
            "fillpattern": {
             "fillmode": "overlay",
             "size": 10,
             "solidity": 0.2
            },
            "type": "scatter"
           }
          ],
          "scatter3d": [
           {
            "line": {
             "colorbar": {
              "outlinewidth": 0,
              "ticks": ""
             }
            },
            "marker": {
             "colorbar": {
              "outlinewidth": 0,
              "ticks": ""
             }
            },
            "type": "scatter3d"
           }
          ],
          "scattercarpet": [
           {
            "marker": {
             "colorbar": {
              "outlinewidth": 0,
              "ticks": ""
             }
            },
            "type": "scattercarpet"
           }
          ],
          "scattergeo": [
           {
            "marker": {
             "colorbar": {
              "outlinewidth": 0,
              "ticks": ""
             }
            },
            "type": "scattergeo"
           }
          ],
          "scattergl": [
           {
            "marker": {
             "colorbar": {
              "outlinewidth": 0,
              "ticks": ""
             }
            },
            "type": "scattergl"
           }
          ],
          "scattermapbox": [
           {
            "marker": {
             "colorbar": {
              "outlinewidth": 0,
              "ticks": ""
             }
            },
            "type": "scattermapbox"
           }
          ],
          "scatterpolar": [
           {
            "marker": {
             "colorbar": {
              "outlinewidth": 0,
              "ticks": ""
             }
            },
            "type": "scatterpolar"
           }
          ],
          "scatterpolargl": [
           {
            "marker": {
             "colorbar": {
              "outlinewidth": 0,
              "ticks": ""
             }
            },
            "type": "scatterpolargl"
           }
          ],
          "scatterternary": [
           {
            "marker": {
             "colorbar": {
              "outlinewidth": 0,
              "ticks": ""
             }
            },
            "type": "scatterternary"
           }
          ],
          "surface": [
           {
            "colorbar": {
             "outlinewidth": 0,
             "ticks": ""
            },
            "colorscale": [
             [
              0,
              "#0d0887"
             ],
             [
              0.1111111111111111,
              "#46039f"
             ],
             [
              0.2222222222222222,
              "#7201a8"
             ],
             [
              0.3333333333333333,
              "#9c179e"
             ],
             [
              0.4444444444444444,
              "#bd3786"
             ],
             [
              0.5555555555555556,
              "#d8576b"
             ],
             [
              0.6666666666666666,
              "#ed7953"
             ],
             [
              0.7777777777777778,
              "#fb9f3a"
             ],
             [
              0.8888888888888888,
              "#fdca26"
             ],
             [
              1,
              "#f0f921"
             ]
            ],
            "type": "surface"
           }
          ],
          "table": [
           {
            "cells": {
             "fill": {
              "color": "#EBF0F8"
             },
             "line": {
              "color": "white"
             }
            },
            "header": {
             "fill": {
              "color": "#C8D4E3"
             },
             "line": {
              "color": "white"
             }
            },
            "type": "table"
           }
          ]
         },
         "layout": {
          "annotationdefaults": {
           "arrowcolor": "#2a3f5f",
           "arrowhead": 0,
           "arrowwidth": 1
          },
          "autotypenumbers": "strict",
          "coloraxis": {
           "colorbar": {
            "outlinewidth": 0,
            "ticks": ""
           }
          },
          "colorscale": {
           "diverging": [
            [
             0,
             "#8e0152"
            ],
            [
             0.1,
             "#c51b7d"
            ],
            [
             0.2,
             "#de77ae"
            ],
            [
             0.3,
             "#f1b6da"
            ],
            [
             0.4,
             "#fde0ef"
            ],
            [
             0.5,
             "#f7f7f7"
            ],
            [
             0.6,
             "#e6f5d0"
            ],
            [
             0.7,
             "#b8e186"
            ],
            [
             0.8,
             "#7fbc41"
            ],
            [
             0.9,
             "#4d9221"
            ],
            [
             1,
             "#276419"
            ]
           ],
           "sequential": [
            [
             0,
             "#0d0887"
            ],
            [
             0.1111111111111111,
             "#46039f"
            ],
            [
             0.2222222222222222,
             "#7201a8"
            ],
            [
             0.3333333333333333,
             "#9c179e"
            ],
            [
             0.4444444444444444,
             "#bd3786"
            ],
            [
             0.5555555555555556,
             "#d8576b"
            ],
            [
             0.6666666666666666,
             "#ed7953"
            ],
            [
             0.7777777777777778,
             "#fb9f3a"
            ],
            [
             0.8888888888888888,
             "#fdca26"
            ],
            [
             1,
             "#f0f921"
            ]
           ],
           "sequentialminus": [
            [
             0,
             "#0d0887"
            ],
            [
             0.1111111111111111,
             "#46039f"
            ],
            [
             0.2222222222222222,
             "#7201a8"
            ],
            [
             0.3333333333333333,
             "#9c179e"
            ],
            [
             0.4444444444444444,
             "#bd3786"
            ],
            [
             0.5555555555555556,
             "#d8576b"
            ],
            [
             0.6666666666666666,
             "#ed7953"
            ],
            [
             0.7777777777777778,
             "#fb9f3a"
            ],
            [
             0.8888888888888888,
             "#fdca26"
            ],
            [
             1,
             "#f0f921"
            ]
           ]
          },
          "colorway": [
           "#636efa",
           "#EF553B",
           "#00cc96",
           "#ab63fa",
           "#FFA15A",
           "#19d3f3",
           "#FF6692",
           "#B6E880",
           "#FF97FF",
           "#FECB52"
          ],
          "font": {
           "color": "#2a3f5f"
          },
          "geo": {
           "bgcolor": "white",
           "lakecolor": "white",
           "landcolor": "#E5ECF6",
           "showlakes": true,
           "showland": true,
           "subunitcolor": "white"
          },
          "hoverlabel": {
           "align": "left"
          },
          "hovermode": "closest",
          "mapbox": {
           "style": "light"
          },
          "paper_bgcolor": "white",
          "plot_bgcolor": "#E5ECF6",
          "polar": {
           "angularaxis": {
            "gridcolor": "white",
            "linecolor": "white",
            "ticks": ""
           },
           "bgcolor": "#E5ECF6",
           "radialaxis": {
            "gridcolor": "white",
            "linecolor": "white",
            "ticks": ""
           }
          },
          "scene": {
           "xaxis": {
            "backgroundcolor": "#E5ECF6",
            "gridcolor": "white",
            "gridwidth": 2,
            "linecolor": "white",
            "showbackground": true,
            "ticks": "",
            "zerolinecolor": "white"
           },
           "yaxis": {
            "backgroundcolor": "#E5ECF6",
            "gridcolor": "white",
            "gridwidth": 2,
            "linecolor": "white",
            "showbackground": true,
            "ticks": "",
            "zerolinecolor": "white"
           },
           "zaxis": {
            "backgroundcolor": "#E5ECF6",
            "gridcolor": "white",
            "gridwidth": 2,
            "linecolor": "white",
            "showbackground": true,
            "ticks": "",
            "zerolinecolor": "white"
           }
          },
          "shapedefaults": {
           "line": {
            "color": "#2a3f5f"
           }
          },
          "ternary": {
           "aaxis": {
            "gridcolor": "white",
            "linecolor": "white",
            "ticks": ""
           },
           "baxis": {
            "gridcolor": "white",
            "linecolor": "white",
            "ticks": ""
           },
           "bgcolor": "#E5ECF6",
           "caxis": {
            "gridcolor": "white",
            "linecolor": "white",
            "ticks": ""
           }
          },
          "title": {
           "x": 0.05
          },
          "xaxis": {
           "automargin": true,
           "gridcolor": "white",
           "linecolor": "white",
           "ticks": "",
           "title": {
            "standoff": 15
           },
           "zerolinecolor": "white",
           "zerolinewidth": 2
          },
          "yaxis": {
           "automargin": true,
           "gridcolor": "white",
           "linecolor": "white",
           "ticks": "",
           "title": {
            "standoff": 15
           },
           "zerolinecolor": "white",
           "zerolinewidth": 2
          }
         }
        },
        "title": {
         "text": "Remark catagories"
        },
        "xaxis": {
         "anchor": "y",
         "domain": [
          0,
          1
         ],
         "title": {
          "text": "index"
         }
        },
        "yaxis": {
         "anchor": "x",
         "domain": [
          0,
          1
         ],
         "title": {
          "text": "value"
         }
        }
       }
      },
      "text/html": [
       "<div>                            <div id=\"7d6cce15-19c9-4e88-9788-2b29e82304d3\" class=\"plotly-graph-div\" style=\"height:525px; width:100%;\"></div>            <script type=\"text/javascript\">                require([\"plotly\"], function(Plotly) {                    window.PLOTLYENV=window.PLOTLYENV || {};                                    if (document.getElementById(\"7d6cce15-19c9-4e88-9788-2b29e82304d3\")) {                    Plotly.newPlot(                        \"7d6cce15-19c9-4e88-9788-2b29e82304d3\",                        [{\"alignmentgroup\":\"True\",\"hovertemplate\":\"variable=Remark<br>index=%{x}<br>value=%{y}<extra></extra>\",\"legendgroup\":\"Remark\",\"marker\":{\"color\":\"#636efa\",\"pattern\":{\"shape\":\"\"}},\"name\":\"Remark\",\"offsetgroup\":\"Remark\",\"orientation\":\"v\",\"showlegend\":true,\"textposition\":\"auto\",\"x\":[\"Good\",\"Average\",\"Excellent\"],\"xaxis\":\"x\",\"y\":[282,68,50],\"yaxis\":\"y\",\"type\":\"bar\"}],                        {\"template\":{\"data\":{\"histogram2dcontour\":[{\"type\":\"histogram2dcontour\",\"colorbar\":{\"outlinewidth\":0,\"ticks\":\"\"},\"colorscale\":[[0.0,\"#0d0887\"],[0.1111111111111111,\"#46039f\"],[0.2222222222222222,\"#7201a8\"],[0.3333333333333333,\"#9c179e\"],[0.4444444444444444,\"#bd3786\"],[0.5555555555555556,\"#d8576b\"],[0.6666666666666666,\"#ed7953\"],[0.7777777777777778,\"#fb9f3a\"],[0.8888888888888888,\"#fdca26\"],[1.0,\"#f0f921\"]]}],\"choropleth\":[{\"type\":\"choropleth\",\"colorbar\":{\"outlinewidth\":0,\"ticks\":\"\"}}],\"histogram2d\":[{\"type\":\"histogram2d\",\"colorbar\":{\"outlinewidth\":0,\"ticks\":\"\"},\"colorscale\":[[0.0,\"#0d0887\"],[0.1111111111111111,\"#46039f\"],[0.2222222222222222,\"#7201a8\"],[0.3333333333333333,\"#9c179e\"],[0.4444444444444444,\"#bd3786\"],[0.5555555555555556,\"#d8576b\"],[0.6666666666666666,\"#ed7953\"],[0.7777777777777778,\"#fb9f3a\"],[0.8888888888888888,\"#fdca26\"],[1.0,\"#f0f921\"]]}],\"heatmap\":[{\"type\":\"heatmap\",\"colorbar\":{\"outlinewidth\":0,\"ticks\":\"\"},\"colorscale\":[[0.0,\"#0d0887\"],[0.1111111111111111,\"#46039f\"],[0.2222222222222222,\"#7201a8\"],[0.3333333333333333,\"#9c179e\"],[0.4444444444444444,\"#bd3786\"],[0.5555555555555556,\"#d8576b\"],[0.6666666666666666,\"#ed7953\"],[0.7777777777777778,\"#fb9f3a\"],[0.8888888888888888,\"#fdca26\"],[1.0,\"#f0f921\"]]}],\"heatmapgl\":[{\"type\":\"heatmapgl\",\"colorbar\":{\"outlinewidth\":0,\"ticks\":\"\"},\"colorscale\":[[0.0,\"#0d0887\"],[0.1111111111111111,\"#46039f\"],[0.2222222222222222,\"#7201a8\"],[0.3333333333333333,\"#9c179e\"],[0.4444444444444444,\"#bd3786\"],[0.5555555555555556,\"#d8576b\"],[0.6666666666666666,\"#ed7953\"],[0.7777777777777778,\"#fb9f3a\"],[0.8888888888888888,\"#fdca26\"],[1.0,\"#f0f921\"]]}],\"contourcarpet\":[{\"type\":\"contourcarpet\",\"colorbar\":{\"outlinewidth\":0,\"ticks\":\"\"}}],\"contour\":[{\"type\":\"contour\",\"colorbar\":{\"outlinewidth\":0,\"ticks\":\"\"},\"colorscale\":[[0.0,\"#0d0887\"],[0.1111111111111111,\"#46039f\"],[0.2222222222222222,\"#7201a8\"],[0.3333333333333333,\"#9c179e\"],[0.4444444444444444,\"#bd3786\"],[0.5555555555555556,\"#d8576b\"],[0.6666666666666666,\"#ed7953\"],[0.7777777777777778,\"#fb9f3a\"],[0.8888888888888888,\"#fdca26\"],[1.0,\"#f0f921\"]]}],\"surface\":[{\"type\":\"surface\",\"colorbar\":{\"outlinewidth\":0,\"ticks\":\"\"},\"colorscale\":[[0.0,\"#0d0887\"],[0.1111111111111111,\"#46039f\"],[0.2222222222222222,\"#7201a8\"],[0.3333333333333333,\"#9c179e\"],[0.4444444444444444,\"#bd3786\"],[0.5555555555555556,\"#d8576b\"],[0.6666666666666666,\"#ed7953\"],[0.7777777777777778,\"#fb9f3a\"],[0.8888888888888888,\"#fdca26\"],[1.0,\"#f0f921\"]]}],\"mesh3d\":[{\"type\":\"mesh3d\",\"colorbar\":{\"outlinewidth\":0,\"ticks\":\"\"}}],\"scatter\":[{\"fillpattern\":{\"fillmode\":\"overlay\",\"size\":10,\"solidity\":0.2},\"type\":\"scatter\"}],\"parcoords\":[{\"type\":\"parcoords\",\"line\":{\"colorbar\":{\"outlinewidth\":0,\"ticks\":\"\"}}}],\"scatterpolargl\":[{\"type\":\"scatterpolargl\",\"marker\":{\"colorbar\":{\"outlinewidth\":0,\"ticks\":\"\"}}}],\"bar\":[{\"error_x\":{\"color\":\"#2a3f5f\"},\"error_y\":{\"color\":\"#2a3f5f\"},\"marker\":{\"line\":{\"color\":\"#E5ECF6\",\"width\":0.5},\"pattern\":{\"fillmode\":\"overlay\",\"size\":10,\"solidity\":0.2}},\"type\":\"bar\"}],\"scattergeo\":[{\"type\":\"scattergeo\",\"marker\":{\"colorbar\":{\"outlinewidth\":0,\"ticks\":\"\"}}}],\"scatterpolar\":[{\"type\":\"scatterpolar\",\"marker\":{\"colorbar\":{\"outlinewidth\":0,\"ticks\":\"\"}}}],\"histogram\":[{\"marker\":{\"pattern\":{\"fillmode\":\"overlay\",\"size\":10,\"solidity\":0.2}},\"type\":\"histogram\"}],\"scattergl\":[{\"type\":\"scattergl\",\"marker\":{\"colorbar\":{\"outlinewidth\":0,\"ticks\":\"\"}}}],\"scatter3d\":[{\"type\":\"scatter3d\",\"line\":{\"colorbar\":{\"outlinewidth\":0,\"ticks\":\"\"}},\"marker\":{\"colorbar\":{\"outlinewidth\":0,\"ticks\":\"\"}}}],\"scattermapbox\":[{\"type\":\"scattermapbox\",\"marker\":{\"colorbar\":{\"outlinewidth\":0,\"ticks\":\"\"}}}],\"scatterternary\":[{\"type\":\"scatterternary\",\"marker\":{\"colorbar\":{\"outlinewidth\":0,\"ticks\":\"\"}}}],\"scattercarpet\":[{\"type\":\"scattercarpet\",\"marker\":{\"colorbar\":{\"outlinewidth\":0,\"ticks\":\"\"}}}],\"carpet\":[{\"aaxis\":{\"endlinecolor\":\"#2a3f5f\",\"gridcolor\":\"white\",\"linecolor\":\"white\",\"minorgridcolor\":\"white\",\"startlinecolor\":\"#2a3f5f\"},\"baxis\":{\"endlinecolor\":\"#2a3f5f\",\"gridcolor\":\"white\",\"linecolor\":\"white\",\"minorgridcolor\":\"white\",\"startlinecolor\":\"#2a3f5f\"},\"type\":\"carpet\"}],\"table\":[{\"cells\":{\"fill\":{\"color\":\"#EBF0F8\"},\"line\":{\"color\":\"white\"}},\"header\":{\"fill\":{\"color\":\"#C8D4E3\"},\"line\":{\"color\":\"white\"}},\"type\":\"table\"}],\"barpolar\":[{\"marker\":{\"line\":{\"color\":\"#E5ECF6\",\"width\":0.5},\"pattern\":{\"fillmode\":\"overlay\",\"size\":10,\"solidity\":0.2}},\"type\":\"barpolar\"}],\"pie\":[{\"automargin\":true,\"type\":\"pie\"}]},\"layout\":{\"autotypenumbers\":\"strict\",\"colorway\":[\"#636efa\",\"#EF553B\",\"#00cc96\",\"#ab63fa\",\"#FFA15A\",\"#19d3f3\",\"#FF6692\",\"#B6E880\",\"#FF97FF\",\"#FECB52\"],\"font\":{\"color\":\"#2a3f5f\"},\"hovermode\":\"closest\",\"hoverlabel\":{\"align\":\"left\"},\"paper_bgcolor\":\"white\",\"plot_bgcolor\":\"#E5ECF6\",\"polar\":{\"bgcolor\":\"#E5ECF6\",\"angularaxis\":{\"gridcolor\":\"white\",\"linecolor\":\"white\",\"ticks\":\"\"},\"radialaxis\":{\"gridcolor\":\"white\",\"linecolor\":\"white\",\"ticks\":\"\"}},\"ternary\":{\"bgcolor\":\"#E5ECF6\",\"aaxis\":{\"gridcolor\":\"white\",\"linecolor\":\"white\",\"ticks\":\"\"},\"baxis\":{\"gridcolor\":\"white\",\"linecolor\":\"white\",\"ticks\":\"\"},\"caxis\":{\"gridcolor\":\"white\",\"linecolor\":\"white\",\"ticks\":\"\"}},\"coloraxis\":{\"colorbar\":{\"outlinewidth\":0,\"ticks\":\"\"}},\"colorscale\":{\"sequential\":[[0.0,\"#0d0887\"],[0.1111111111111111,\"#46039f\"],[0.2222222222222222,\"#7201a8\"],[0.3333333333333333,\"#9c179e\"],[0.4444444444444444,\"#bd3786\"],[0.5555555555555556,\"#d8576b\"],[0.6666666666666666,\"#ed7953\"],[0.7777777777777778,\"#fb9f3a\"],[0.8888888888888888,\"#fdca26\"],[1.0,\"#f0f921\"]],\"sequentialminus\":[[0.0,\"#0d0887\"],[0.1111111111111111,\"#46039f\"],[0.2222222222222222,\"#7201a8\"],[0.3333333333333333,\"#9c179e\"],[0.4444444444444444,\"#bd3786\"],[0.5555555555555556,\"#d8576b\"],[0.6666666666666666,\"#ed7953\"],[0.7777777777777778,\"#fb9f3a\"],[0.8888888888888888,\"#fdca26\"],[1.0,\"#f0f921\"]],\"diverging\":[[0,\"#8e0152\"],[0.1,\"#c51b7d\"],[0.2,\"#de77ae\"],[0.3,\"#f1b6da\"],[0.4,\"#fde0ef\"],[0.5,\"#f7f7f7\"],[0.6,\"#e6f5d0\"],[0.7,\"#b8e186\"],[0.8,\"#7fbc41\"],[0.9,\"#4d9221\"],[1,\"#276419\"]]},\"xaxis\":{\"gridcolor\":\"white\",\"linecolor\":\"white\",\"ticks\":\"\",\"title\":{\"standoff\":15},\"zerolinecolor\":\"white\",\"automargin\":true,\"zerolinewidth\":2},\"yaxis\":{\"gridcolor\":\"white\",\"linecolor\":\"white\",\"ticks\":\"\",\"title\":{\"standoff\":15},\"zerolinecolor\":\"white\",\"automargin\":true,\"zerolinewidth\":2},\"scene\":{\"xaxis\":{\"backgroundcolor\":\"#E5ECF6\",\"gridcolor\":\"white\",\"linecolor\":\"white\",\"showbackground\":true,\"ticks\":\"\",\"zerolinecolor\":\"white\",\"gridwidth\":2},\"yaxis\":{\"backgroundcolor\":\"#E5ECF6\",\"gridcolor\":\"white\",\"linecolor\":\"white\",\"showbackground\":true,\"ticks\":\"\",\"zerolinecolor\":\"white\",\"gridwidth\":2},\"zaxis\":{\"backgroundcolor\":\"#E5ECF6\",\"gridcolor\":\"white\",\"linecolor\":\"white\",\"showbackground\":true,\"ticks\":\"\",\"zerolinecolor\":\"white\",\"gridwidth\":2}},\"shapedefaults\":{\"line\":{\"color\":\"#2a3f5f\"}},\"annotationdefaults\":{\"arrowcolor\":\"#2a3f5f\",\"arrowhead\":0,\"arrowwidth\":1},\"geo\":{\"bgcolor\":\"white\",\"landcolor\":\"#E5ECF6\",\"subunitcolor\":\"white\",\"showland\":true,\"showlakes\":true,\"lakecolor\":\"white\"},\"title\":{\"x\":0.05},\"mapbox\":{\"style\":\"light\"}}},\"xaxis\":{\"anchor\":\"y\",\"domain\":[0.0,1.0],\"title\":{\"text\":\"index\"}},\"yaxis\":{\"anchor\":\"x\",\"domain\":[0.0,1.0],\"title\":{\"text\":\"value\"}},\"legend\":{\"title\":{\"text\":\"variable\"},\"tracegroupgap\":0},\"title\":{\"text\":\"Remark catagories\"},\"barmode\":\"relative\"},                        {\"responsive\": true}                    ).then(function(){\n",
       "                            \n",
       "var gd = document.getElementById('7d6cce15-19c9-4e88-9788-2b29e82304d3');\n",
       "var x = new MutationObserver(function (mutations, observer) {{\n",
       "        var display = window.getComputedStyle(gd).display;\n",
       "        if (!display || display === 'none') {{\n",
       "            console.log([gd, 'removed!']);\n",
       "            Plotly.purge(gd);\n",
       "            observer.disconnect();\n",
       "        }}\n",
       "}});\n",
       "\n",
       "// Listen for the removal of the full notebook cells\n",
       "var notebookContainer = gd.closest('#notebook-container');\n",
       "if (notebookContainer) {{\n",
       "    x.observe(notebookContainer, {childList: true});\n",
       "}}\n",
       "\n",
       "// Listen for the clearing of the current output cell\n",
       "var outputEl = gd.closest('.output');\n",
       "if (outputEl) {{\n",
       "    x.observe(outputEl, {childList: true});\n",
       "}}\n",
       "\n",
       "                        })                };                });            </script>        </div>"
      ]
     },
     "metadata": {},
     "output_type": "display_data"
    }
   ],
   "source": [
    "px.bar(df['Remark'].value_counts(),title='Remark catagories')"
   ]
  },
  {
   "cell_type": "markdown",
   "metadata": {},
   "source": [
    "* From the above graph we can coclude that most number of hotels are good"
   ]
  },
  {
   "cell_type": "code",
   "execution_count": 24,
   "metadata": {},
   "outputs": [
    {
     "data": {
      "image/png": "[encoded data removed]",
      "text/plain": [
       "<Figure size 640x480 with 1 Axes>"
      ]
     },
     "metadata": {},
     "output_type": "display_data"
    }
   ],
   "source": [
    "color_sns=sns.color_palette(\"gist_earth\")\n",
    "plt.pie(df['City'].value_counts(),labels=df['City'].value_counts().index,autopct=\"%1.1f%%\",colors=color_sns)\n",
    "plt.show()"
   ]
  },
  {
   "cell_type": "markdown",
   "metadata": {},
   "source": [
    "* from above grapgh  we are getting the percentage of hotels in each city "
   ]
  },
  {
   "cell_type": "code",
   "execution_count": 25,
   "metadata": {
    "scrolled": true
   },
   "outputs": [
    {
     "data": {
      "image/png": "[encoded data removed]",
      "text/plain": [
       "<Figure size 640x480 with 1 Axes>"
      ]
     },
     "metadata": {},
     "output_type": "display_data"
    }
   ],
   "source": [
    "sns.countplot(data=df,x='City')\n",
    "plt.title(\"Count of hotels in each city\")\n",
    "plt.show()"
   ]
  },
  {
   "cell_type": "markdown",
   "metadata": {},
   "source": [
    "* from above graph we are getting count of total number of hotels in each city "
   ]
  },
  {
   "cell_type": "code",
   "execution_count": 26,
   "metadata": {
    "scrolled": true
   },
   "outputs": [
    {
     "data": {
      "image/png": "[encoded data removed]",
      "text/plain": [
       "<Figure size 640x480 with 1 Axes>"
      ]
     },
     "metadata": {},
     "output_type": "display_data"
    }
   ],
   "source": [
    "temp1=df[df['City']=='Hyderabad']\n",
    "a=temp1['Remark'].value_counts()\n",
    "plt.pie(a,labels=a.index,autopct='%0.2f%%')\n",
    "plt.title('Hyd_Remark')\n",
    "plt.show()"
   ]
  },
  {
   "cell_type": "markdown",
   "metadata": {},
   "source": [
    "* from above graph we are getting the exact percentage of hotels  which belongs to the remark catagorie in hyderabad city."
   ]
  },
  {
   "cell_type": "code",
   "execution_count": 27,
   "metadata": {},
   "outputs": [
    {
     "data": {
      "image/png": "[encoded data removed]",
      "text/plain": [
       "<Figure size 640x480 with 1 Axes>"
      ]
     },
     "metadata": {},
     "output_type": "display_data"
    }
   ],
   "source": [
    "temp1=df[df['City']=='Bangalore']\n",
    "a=temp1['Remark'].value_counts()\n",
    "plt.pie(a,labels=a.index,autopct='%0.2f%%')\n",
    "plt.title('Bangalore_Remark')\n",
    "plt.show()\n"
   ]
  },
  {
   "cell_type": "markdown",
   "metadata": {},
   "source": [
    "* from above graph we are getting the exact percentage hotes which belongs to the remark catagorie in Bangalore."
   ]
  },
  {
   "cell_type": "code",
   "execution_count": 28,
   "metadata": {},
   "outputs": [
    {
     "data": {
      "image/png": "[encoded data removed]",
      "text/plain": [
       "<Figure size 640x480 with 1 Axes>"
      ]
     },
     "metadata": {},
     "output_type": "display_data"
    }
   ],
   "source": [
    "temp1=df[df['City']=='Delhi']\n",
    "a=temp1['Remark'].value_counts()\n",
    "plt.pie(a,labels=a.index,autopct='%0.2f%%')\n",
    "plt.title('Delhi_Remark')\n",
    "plt.show()"
   ]
  },
  {
   "cell_type": "markdown",
   "metadata": {},
   "source": [
    "* from above graph we are getting the exact percentage hotes which belongs to the remark catagorie in Delhi ."
   ]
  },
  {
   "cell_type": "code",
   "execution_count": 29,
   "metadata": {
    "scrolled": true
   },
   "outputs": [
    {
     "data": {
      "image/png": "[encoded data removed]",
      "text/plain": [
       "<Figure size 640x480 with 1 Axes>"
      ]
     },
     "metadata": {},
     "output_type": "display_data"
    }
   ],
   "source": [
    "temp1=df[df['City']=='Kolkata']\n",
    "a=temp1['Remark'].value_counts()\n",
    "plt.pie(a,labels=a.index,autopct='%0.2f%%')\n",
    "plt.title('Kolkata_Remark')\n",
    "plt.show()"
   ]
  },
  {
   "cell_type": "markdown",
   "metadata": {},
   "source": [
    "from above graph we are getting the exact percentage hotes which belongs to the remark catagorie in Kolkata ."
   ]
  },
  {
   "cell_type": "code",
   "execution_count": null,
   "metadata": {},
   "outputs": [],
   "source": [
    "city=input('enter the name of city :')\n",
    "temp1=df[df['City']==city] \n",
    "a=max(temp1['Prices'])\n",
    "print(a)\n",
    "\n"
   ]
  },
  {
   "cell_type": "markdown",
   "metadata": {},
   "source": [
    "* with the help of these code we can know the max price in any city"
   ]
  },
  {
   "cell_type": "markdown",
   "metadata": {},
   "source": [
    "### Bivariant\n",
    "### Num vs Num"
   ]
  },
  {
   "cell_type": "code",
   "execution_count": null,
   "metadata": {},
   "outputs": [],
   "source": [
    "px.scatter(x=df['Votes'],y=df['Ratings'])"
   ]
  },
  {
   "cell_type": "markdown",
   "metadata": {},
   "source": [
    "* from above graph we can conclude if the votes are increasing then rating also will increase"
   ]
  },
  {
   "cell_type": "markdown",
   "metadata": {},
   "source": [
    "### cat vs num"
   ]
  },
  {
   "cell_type": "code",
   "execution_count": null,
   "metadata": {},
   "outputs": [],
   "source": [
    "sns.barplot(x='Remark',y='Votes',data=df,orient='v')\n",
    "plt.title(\"Number of votes based on Remark\")\n",
    "plt.show()"
   ]
  },
  {
   "cell_type": "markdown",
   "metadata": {},
   "source": [
    "* from the above graph we can conclude that most of the hotels which are in excellent category have more votes"
   ]
  },
  {
   "cell_type": "code",
   "execution_count": null,
   "metadata": {
    "scrolled": true
   },
   "outputs": [],
   "source": [
    "px.strip(x=df['City'],y=df['Prices'],title=\"Highest price hotels in four titles\")"
   ]
  },
  {
   "cell_type": "markdown",
   "metadata": {},
   "source": [
    "* from the above plot we can conclude that Bangalore has highest price hotels"
   ]
  },
  {
   "cell_type": "code",
   "execution_count": null,
   "metadata": {},
   "outputs": [],
   "source": [
    "sns.scatterplot(x='Remark',y='Prices',data=df)\n",
    "plt.title(\"prices based on Remarks\")\n",
    "plt.show()"
   ]
  },
  {
   "cell_type": "markdown",
   "metadata": {},
   "source": [
    "* from the above graph we can conclude that most of the hotels which are in excellent category have more prices"
   ]
  },
  {
   "cell_type": "markdown",
   "metadata": {},
   "source": [
    "### cat vs cat"
   ]
  },
  {
   "cell_type": "code",
   "execution_count": null,
   "metadata": {},
   "outputs": [],
   "source": [
    "temp1=df[df['City']=='Hyderabad']\n",
    "temp2=temp1[temp1['Remark']=='Excellent']"
   ]
  },
  {
   "cell_type": "markdown",
   "metadata": {},
   "source": [
    "* from the above we are getting excellent category hotels in Hyderabad"
   ]
  },
  {
   "cell_type": "code",
   "execution_count": null,
   "metadata": {},
   "outputs": [],
   "source": [
    "sns.barplot(data=temp2,x='Hotel_Names',y='Prices')\n",
    "plt.title(\"hyd Excellent hotels prices \")\n",
    "plt.xticks(rotation=90)\n",
    "plt.show()"
   ]
  },
  {
   "cell_type": "markdown",
   "metadata": {},
   "source": [
    "* from the above graph we can conclude these are the best hotels in hyderabad city and from the above we observed that these particular RCC Majestic 397 LB Nagar hotel has max price"
   ]
  },
  {
   "cell_type": "markdown",
   "metadata": {},
   "source": [
    "###  MULTI VARIENT"
   ]
  },
  {
   "cell_type": "code",
   "execution_count": null,
   "metadata": {},
   "outputs": [],
   "source": [
    "r=df[df['Distance']<2]\n",
    "len(r)"
   ]
  },
  {
   "cell_type": "markdown",
   "metadata": {},
   "source": [
    "* from above code we are getting the hotels whose distance is less than 2kms from the city to address"
   ]
  },
  {
   "cell_type": "code",
   "execution_count": null,
   "metadata": {},
   "outputs": [],
   "source": [
    "sns.barplot(data=r,y='Ratings',x='Hotel_Names',hue='City')\n",
    "plt.title(\"Hotels distance which are less than 2kms from the city\")\n",
    "plt.xticks(rotation=90);\n",
    "plt.legend(bbox_to_anchor=(1.5,1))\n",
    "plt.show()"
   ]
  },
  {
   "cell_type": "markdown",
   "metadata": {},
   "source": [
    "* from the above graph we can observe that bangalore city hotels has max number of ratings when compare to other city and these all hotels has a distance less than 2 kms from the coressponding city"
   ]
  },
  {
   "cell_type": "code",
   "execution_count": null,
   "metadata": {},
   "outputs": [],
   "source": [
    "sns.scatterplot(y=df['Ratings'],x=df['Votes'],hue=df['City'])\n",
    "plt.legend(bbox_to_anchor=(1.5,1))"
   ]
  },
  {
   "cell_type": "markdown",
   "metadata": {},
   "source": [
    "* from the above graph we can conclude that most of the hotels lie with in the range of 0-3000 votes and kolkata has the max rating "
   ]
  },
  {
   "cell_type": "code",
   "execution_count": null,
   "metadata": {},
   "outputs": [],
   "source": [
    "sns.heatmap(df.corr(),annot=True)\n",
    "plt.show()"
   ]
  },
  {
   "cell_type": "markdown",
   "metadata": {},
   "source": [
    "* from the above plot we can conclude that there are positive relations and negative relationship the positive relation and the positive relation depicts the relation between the two different columns where as negative relation doesnot effect any columns "
   ]
  },
  {
   "cell_type": "code",
   "execution_count": null,
   "metadata": {},
   "outputs": [],
   "source": []
  },
  {
   "cell_type": "code",
   "execution_count": null,
   "metadata": {},
   "outputs": [],
   "source": [
    "df"
   ]
  },
  {
   "cell_type": "code",
   "execution_count": null,
   "metadata": {},
   "outputs": [],
   "source": [
    "Hotel_Names=input('Enter the Hotel_Name: ')\n",
    "City=input('Enter the City: ')\n",
    "a=df[(df['Hotel_Names']==Hotel_Names)&(df['City']==City)]\n",
    "a"
   ]
  },
  {
   "cell_type": "code",
   "execution_count": null,
   "metadata": {},
   "outputs": [],
   "source": []
  }
 ],
 "metadata": {
  "kernelspec": {
   "display_name": "Python 3 (ipykernel)",
   "language": "python",
   "name": "python3"
  },
  "language_info": {
   "codemirror_mode": {
    "name": "ipython",
    "version": 3
   },
   "file_extension": ".py",
   "mimetype": "text/x-python",
   "name": "python",
   "nbconvert_exporter": "python",
   "pygments_lexer": "ipython3",
   "version": "3.9.13"
  }
 },
 "nbformat": 4,
 "nbformat_minor": 4
}
